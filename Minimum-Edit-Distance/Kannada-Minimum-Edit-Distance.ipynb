{
 "cells": [
  {
   "cell_type": "code",
   "execution_count": 24,
   "id": "946573a2",
   "metadata": {},
   "outputs": [],
   "source": [
    "import unicodedata\n",
    "import numpy as np\n",
    "import pandas as pd"
   ]
  },
  {
   "cell_type": "code",
   "execution_count": 2,
   "id": "69ada5ba",
   "metadata": {},
   "outputs": [],
   "source": [
    "def is_valid_unicode(character):\n",
    "    try:\n",
    "        unicodedata.name(character)\n",
    "        return True\n",
    "    except ValueError:\n",
    "        return False"
   ]
  },
  {
   "cell_type": "markdown",
   "id": "d8011997",
   "metadata": {},
   "source": [
    "# All Kannada Letters"
   ]
  },
  {
   "cell_type": "code",
   "execution_count": 3,
   "id": "698057dc",
   "metadata": {},
   "outputs": [
    {
     "name": "stdout",
     "output_type": "stream",
     "text": [
      "['ಀ', 'ಁ', 'ಂ', 'ಃ', '಄', 'ಅ', 'ಆ', 'ಇ', 'ಈ', 'ಉ', 'ಊ', 'ಋ', 'ಌ', 'ಎ', 'ಏ', 'ಐ', 'ಒ', 'ಓ', 'ಔ', 'ಕ', 'ಖ', 'ಗ', 'ಘ', 'ಙ', 'ಚ', 'ಛ', 'ಜ', 'ಝ', 'ಞ', 'ಟ', 'ಠ', 'ಡ', 'ಢ', 'ಣ', 'ತ', 'ಥ', 'ದ', 'ಧ', 'ನ', 'ಪ', 'ಫ', 'ಬ', 'ಭ', 'ಮ', 'ಯ', 'ರ', 'ಱ', 'ಲ', 'ಳ', 'ವ', 'ಶ', 'ಷ', 'ಸ', 'ಹ', '಼', 'ಽ', 'ಾ', 'ಿ', 'ೀ', 'ು', 'ೂ', 'ೃ', 'ೄ', 'ೆ', 'ೇ', 'ೈ', 'ೊ', 'ೋ', 'ೌ', '್', 'ೕ', 'ೖ', 'ೝ', 'ೞ', 'ೠ', 'ೡ', 'ೢ', 'ೣ', '೦', '೧', '೨', '೩', '೪', '೫', '೬', '೭', '೮', '೯', 'ೱ', 'ೲ']\n"
     ]
    }
   ],
   "source": [
    "kannada_letters = [chr(codepoint) for codepoint in range(0x0C80, 0x0CFF + 1) if is_valid_unicode(chr(codepoint))]\n",
    "print(kannada_letters)"
   ]
  },
  {
   "cell_type": "code",
   "execution_count": 4,
   "id": "babe5c42",
   "metadata": {
    "scrolled": true
   },
   "outputs": [
    {
     "name": "stdout",
     "output_type": "stream",
     "text": [
      "ಀ KANNADA SIGN SPACING CANDRABINDU\n",
      "ಁ KANNADA SIGN CANDRABINDU\n",
      "ಂ KANNADA SIGN ANUSVARA\n",
      "ಃ KANNADA SIGN VISARGA\n",
      "಄ KANNADA SIGN SIDDHAM\n",
      "ಅ KANNADA LETTER A\n",
      "ಆ KANNADA LETTER AA\n",
      "ಇ KANNADA LETTER I\n",
      "ಈ KANNADA LETTER II\n",
      "ಉ KANNADA LETTER U\n",
      "ಊ KANNADA LETTER UU\n",
      "ಋ KANNADA LETTER VOCALIC R\n",
      "ಌ KANNADA LETTER VOCALIC L\n",
      "ಎ KANNADA LETTER E\n",
      "ಏ KANNADA LETTER EE\n",
      "ಐ KANNADA LETTER AI\n",
      "ಒ KANNADA LETTER O\n",
      "ಓ KANNADA LETTER OO\n",
      "ಔ KANNADA LETTER AU\n",
      "ಕ KANNADA LETTER KA\n",
      "ಖ KANNADA LETTER KHA\n",
      "ಗ KANNADA LETTER GA\n",
      "ಘ KANNADA LETTER GHA\n",
      "ಙ KANNADA LETTER NGA\n",
      "ಚ KANNADA LETTER CA\n",
      "ಛ KANNADA LETTER CHA\n",
      "ಜ KANNADA LETTER JA\n",
      "ಝ KANNADA LETTER JHA\n",
      "ಞ KANNADA LETTER NYA\n",
      "ಟ KANNADA LETTER TTA\n",
      "ಠ KANNADA LETTER TTHA\n",
      "ಡ KANNADA LETTER DDA\n",
      "ಢ KANNADA LETTER DDHA\n",
      "ಣ KANNADA LETTER NNA\n",
      "ತ KANNADA LETTER TA\n",
      "ಥ KANNADA LETTER THA\n",
      "ದ KANNADA LETTER DA\n",
      "ಧ KANNADA LETTER DHA\n",
      "ನ KANNADA LETTER NA\n",
      "ಪ KANNADA LETTER PA\n",
      "ಫ KANNADA LETTER PHA\n",
      "ಬ KANNADA LETTER BA\n",
      "ಭ KANNADA LETTER BHA\n",
      "ಮ KANNADA LETTER MA\n",
      "ಯ KANNADA LETTER YA\n",
      "ರ KANNADA LETTER RA\n",
      "ಱ KANNADA LETTER RRA\n",
      "ಲ KANNADA LETTER LA\n",
      "ಳ KANNADA LETTER LLA\n",
      "ವ KANNADA LETTER VA\n",
      "ಶ KANNADA LETTER SHA\n",
      "ಷ KANNADA LETTER SSA\n",
      "ಸ KANNADA LETTER SA\n",
      "ಹ KANNADA LETTER HA\n",
      "಼ KANNADA SIGN NUKTA\n",
      "ಽ KANNADA SIGN AVAGRAHA\n",
      "ಾ KANNADA VOWEL SIGN AA\n",
      "ಿ KANNADA VOWEL SIGN I\n",
      "ೀ KANNADA VOWEL SIGN II\n",
      "ು KANNADA VOWEL SIGN U\n",
      "ೂ KANNADA VOWEL SIGN UU\n",
      "ೃ KANNADA VOWEL SIGN VOCALIC R\n",
      "ೄ KANNADA VOWEL SIGN VOCALIC RR\n",
      "ೆ KANNADA VOWEL SIGN E\n",
      "ೇ KANNADA VOWEL SIGN EE\n",
      "ೈ KANNADA VOWEL SIGN AI\n",
      "ೊ KANNADA VOWEL SIGN O\n",
      "ೋ KANNADA VOWEL SIGN OO\n",
      "ೌ KANNADA VOWEL SIGN AU\n",
      "್ KANNADA SIGN VIRAMA\n",
      "ೕ KANNADA LENGTH MARK\n",
      "ೖ KANNADA AI LENGTH MARK\n",
      "ೝ KANNADA LETTER NAKAARA POLLU\n",
      "ೞ KANNADA LETTER FA\n",
      "ೠ KANNADA LETTER VOCALIC RR\n",
      "ೡ KANNADA LETTER VOCALIC LL\n",
      "ೢ KANNADA VOWEL SIGN VOCALIC L\n",
      "ೣ KANNADA VOWEL SIGN VOCALIC LL\n",
      "೦ KANNADA DIGIT ZERO\n",
      "೧ KANNADA DIGIT ONE\n",
      "೨ KANNADA DIGIT TWO\n",
      "೩ KANNADA DIGIT THREE\n",
      "೪ KANNADA DIGIT FOUR\n",
      "೫ KANNADA DIGIT FIVE\n",
      "೬ KANNADA DIGIT SIX\n",
      "೭ KANNADA DIGIT SEVEN\n",
      "೮ KANNADA DIGIT EIGHT\n",
      "೯ KANNADA DIGIT NINE\n",
      "ೱ KANNADA SIGN JIHVAMULIYA\n",
      "ೲ KANNADA SIGN UPADHMANIYA\n"
     ]
    }
   ],
   "source": [
    "for codepoint in kannada_letters:\n",
    "    print(codepoint, unicodedata.name(codepoint))"
   ]
  },
  {
   "cell_type": "markdown",
   "id": "0727e5d0",
   "metadata": {},
   "source": [
    "# Random combinations of letters"
   ]
  },
  {
   "cell_type": "code",
   "execution_count": null,
   "id": "3a4c3910",
   "metadata": {},
   "outputs": [],
   "source": []
  },
  {
   "cell_type": "markdown",
   "id": "de039a62",
   "metadata": {},
   "source": [
    "# Unicode Level MED"
   ]
  },
  {
   "cell_type": "markdown",
   "id": "eca545d6",
   "metadata": {},
   "source": []
  },
  {
   "cell_type": "code",
   "execution_count": 112,
   "id": "65891ee1",
   "metadata": {},
   "outputs": [],
   "source": [
    "def min_edit_distance(s: str, t: str) -> int:\n",
    "    n = len(s)\n",
    "    m = len(t)\n",
    "\n",
    "    prev = [j for j in range(m+1)]\n",
    "    curr = [0] * (m+1)\n",
    "    \n",
    "    table = []\n",
    "    row_headings    = ['-'] + [st for st in s]\n",
    "    column_headings = ['-'] + [st for st in t]\n",
    "\n",
    "    for i in range(1, n+1):\n",
    "        \n",
    "        curr[0] = i\n",
    "        for j in range(1, m+1):\n",
    "            if s[i-1] == t[j-1]:\n",
    "                curr[j] = prev[j-1]\n",
    "            else:\n",
    "                mn = min(1 + prev[j], 1 + curr[j-1])\n",
    "                curr[j] = min(mn, 2 + prev[j-1])\n",
    "        \n",
    "        table.append(prev)\n",
    "        prev = curr.copy()\n",
    "    \n",
    "    table.append(curr)\n",
    "\n",
    "    return prev[m], (table, row_headings, column_headings)"
   ]
  },
  {
   "cell_type": "code",
   "execution_count": 113,
   "id": "2da532d3",
   "metadata": {},
   "outputs": [],
   "source": [
    "words = [\n",
    "    'ನಾನು',\n",
    "    'ನನ್ನಾ',\n",
    "    'ನಿನಗೆ',\n",
    "    'ನಿನಗಾ',\n",
    "    'ನೀನಾ',\n",
    "    'ನೀನ್ನಾ',\n",
    "]"
   ]
  },
  {
   "cell_type": "code",
   "execution_count": 114,
   "id": "2d035e57",
   "metadata": {},
   "outputs": [
    {
     "name": "stdout",
     "output_type": "stream",
     "text": [
      "['ನಾನು', 'ನನ್ನಾ', 'ನಿನಗೆ', 'ನಿನಗಾ', 'ನೀನಾ', 'ನೀನ್ನಾ']\n",
      "ನಾನು ನಾನು 0\n",
      "ನಾನು ನನ್ನಾ 5\n",
      "ನಾನು ನಿನಗೆ 5\n",
      "ನಾನು ನಿನಗಾ 5\n",
      "ನಾನು ನೀನಾ 4\n",
      "ನಾನು ನೀನ್ನಾ 6\n",
      "ನನ್ನಾ ನಾನು 5\n",
      "ನನ್ನಾ ನನ್ನಾ 0\n",
      "ನನ್ನಾ ನಿನಗೆ 6\n",
      "ನನ್ನಾ ನಿನಗಾ 4\n",
      "ನನ್ನಾ ನೀನಾ 3\n",
      "ನನ್ನಾ ನೀನ್ನಾ 1\n",
      "ನಿನಗೆ ನಾನು 5\n",
      "ನಿನಗೆ ನನ್ನಾ 6\n",
      "ನಿನಗೆ ನಿನಗೆ 0\n",
      "ನಿನಗೆ ನಿನಗಾ 2\n",
      "ನಿನಗೆ ನೀನಾ 5\n",
      "ನಿನಗೆ ನೀನ್ನಾ 7\n",
      "ನಿನಗಾ ನಾನು 5\n",
      "ನಿನಗಾ ನನ್ನಾ 4\n",
      "ನಿನಗಾ ನಿನಗೆ 2\n",
      "ನಿನಗಾ ನಿನಗಾ 0\n",
      "ನಿನಗಾ ನೀನಾ 3\n",
      "ನಿನಗಾ ನೀನ್ನಾ 5\n",
      "ನೀನಾ ನಾನು 4\n",
      "ನೀನಾ ನನ್ನಾ 3\n",
      "ನೀನಾ ನಿನಗೆ 5\n",
      "ನೀನಾ ನಿನಗಾ 3\n",
      "ನೀನಾ ನೀನಾ 0\n",
      "ನೀನಾ ನೀನ್ನಾ 2\n",
      "ನೀನ್ನಾ ನಾನು 6\n",
      "ನೀನ್ನಾ ನನ್ನಾ 1\n",
      "ನೀನ್ನಾ ನಿನಗೆ 7\n",
      "ನೀನ್ನಾ ನಿನಗಾ 5\n",
      "ನೀನ್ನಾ ನೀನಾ 2\n",
      "ನೀನ್ನಾ ನೀನ್ನಾ 0\n"
     ]
    }
   ],
   "source": [
    "print(words)\n",
    "for i in words:\n",
    "    for j in words:\n",
    "        print(i, j ,min_edit_distance(i, j)[0])"
   ]
  },
  {
   "cell_type": "code",
   "execution_count": 115,
   "id": "ca7d2ec8",
   "metadata": {},
   "outputs": [],
   "source": [
    "first = 'ಕನ್ನಡ'\n",
    "second = 'ಕನ್ನಡಕ'"
   ]
  },
  {
   "cell_type": "code",
   "execution_count": 178,
   "id": "aa9adc5d",
   "metadata": {},
   "outputs": [
    {
     "data": {
      "text/plain": [
       "('drats', 'maths')"
      ]
     },
     "execution_count": 178,
     "metadata": {},
     "output_type": "execute_result"
    }
   ],
   "source": [
    "FIRST_WORD = \"drats\"\n",
    "SECOND_WORD = \"maths\"\n",
    "FIRST_WORD, SECOND_WORD"
   ]
  },
  {
   "cell_type": "code",
   "execution_count": 179,
   "id": "0f15b874",
   "metadata": {},
   "outputs": [
    {
     "data": {
      "text/plain": [
       "4"
      ]
     },
     "execution_count": 179,
     "metadata": {},
     "output_type": "execute_result"
    }
   ],
   "source": [
    "MED, t = min_edit_distance(FIRST_WORD, SECOND_WORD)\n",
    "MED"
   ]
  },
  {
   "cell_type": "code",
   "execution_count": 180,
   "id": "1985e786",
   "metadata": {
    "scrolled": true
   },
   "outputs": [
    {
     "data": {
      "text/html": [
       "<div>\n",
       "<style scoped>\n",
       "    .dataframe tbody tr th:only-of-type {\n",
       "        vertical-align: middle;\n",
       "    }\n",
       "\n",
       "    .dataframe tbody tr th {\n",
       "        vertical-align: top;\n",
       "    }\n",
       "\n",
       "    .dataframe thead th {\n",
       "        text-align: right;\n",
       "    }\n",
       "</style>\n",
       "<table border=\"1\" class=\"dataframe\">\n",
       "  <thead>\n",
       "    <tr style=\"text-align: right;\">\n",
       "      <th></th>\n",
       "      <th>-</th>\n",
       "      <th>m</th>\n",
       "      <th>a</th>\n",
       "      <th>t</th>\n",
       "      <th>h</th>\n",
       "      <th>s</th>\n",
       "    </tr>\n",
       "  </thead>\n",
       "  <tbody>\n",
       "    <tr>\n",
       "      <th>-</th>\n",
       "      <td>0</td>\n",
       "      <td>1</td>\n",
       "      <td>2</td>\n",
       "      <td>3</td>\n",
       "      <td>4</td>\n",
       "      <td>5</td>\n",
       "    </tr>\n",
       "    <tr>\n",
       "      <th>d</th>\n",
       "      <td>1</td>\n",
       "      <td>2</td>\n",
       "      <td>3</td>\n",
       "      <td>4</td>\n",
       "      <td>5</td>\n",
       "      <td>6</td>\n",
       "    </tr>\n",
       "    <tr>\n",
       "      <th>r</th>\n",
       "      <td>2</td>\n",
       "      <td>3</td>\n",
       "      <td>4</td>\n",
       "      <td>5</td>\n",
       "      <td>6</td>\n",
       "      <td>7</td>\n",
       "    </tr>\n",
       "    <tr>\n",
       "      <th>a</th>\n",
       "      <td>3</td>\n",
       "      <td>4</td>\n",
       "      <td>3</td>\n",
       "      <td>4</td>\n",
       "      <td>5</td>\n",
       "      <td>6</td>\n",
       "    </tr>\n",
       "    <tr>\n",
       "      <th>t</th>\n",
       "      <td>4</td>\n",
       "      <td>5</td>\n",
       "      <td>4</td>\n",
       "      <td>3</td>\n",
       "      <td>4</td>\n",
       "      <td>5</td>\n",
       "    </tr>\n",
       "    <tr>\n",
       "      <th>s</th>\n",
       "      <td>5</td>\n",
       "      <td>6</td>\n",
       "      <td>5</td>\n",
       "      <td>4</td>\n",
       "      <td>5</td>\n",
       "      <td>4</td>\n",
       "    </tr>\n",
       "  </tbody>\n",
       "</table>\n",
       "</div>"
      ],
      "text/plain": [
       "   -  m  a  t  h  s\n",
       "-  0  1  2  3  4  5\n",
       "d  1  2  3  4  5  6\n",
       "r  2  3  4  5  6  7\n",
       "a  3  4  3  4  5  6\n",
       "t  4  5  4  3  4  5\n",
       "s  5  6  5  4  5  4"
      ]
     },
     "execution_count": 180,
     "metadata": {},
     "output_type": "execute_result"
    }
   ],
   "source": [
    "df = pd.DataFrame(t[0], index=t[1], columns=t[2])\n",
    "df"
   ]
  },
  {
   "cell_type": "markdown",
   "id": "9c31bcf5",
   "metadata": {},
   "source": [
    "### One Optimal Paths"
   ]
  },
  {
   "cell_type": "code",
   "execution_count": 181,
   "id": "04d50203",
   "metadata": {},
   "outputs": [],
   "source": [
    "def one_path(table):\n",
    "    path = []\n",
    "\n",
    "    i, j = len(table)-1, len(table[0])-1\n",
    "    path.append((i, j))\n",
    "\n",
    "    while(i!=0 and j!=0):\n",
    "        values = [\n",
    "                    table[i-1][j-1],\n",
    "                    table[i-1][j],\n",
    "                    table[i][j-1]\n",
    "                ]\n",
    "        min_index = values.index(min(values))\n",
    "\n",
    "\n",
    "        if(min_index == 0):\n",
    "            i, j = i-1, j-1\n",
    "        elif(min_index == 1):\n",
    "            i, j = i-1, j\n",
    "        else:\n",
    "            i, j = i, j-1\n",
    "\n",
    "        path.append((i, j))\n",
    "#     return path\n",
    "    return list(reversed(path+ [(0,0)]))"
   ]
  },
  {
   "cell_type": "code",
   "execution_count": 182,
   "id": "6c51eb2e",
   "metadata": {},
   "outputs": [],
   "source": [
    "def yield_characters(string):\n",
    "    for i in string:\n",
    "        yield i"
   ]
  },
  {
   "cell_type": "code",
   "execution_count": 183,
   "id": "f13a29af",
   "metadata": {},
   "outputs": [],
   "source": [
    "def alignment(string, path):\n",
    "    print(path, string)\n",
    "    iterator = yield_characters(string)\n",
    "        \n",
    "    align = []\n",
    "    \n",
    "    for i in range(len(path)-1):\n",
    "        if(path[i]==path[i+1]):\n",
    "            align.append('*')\n",
    "        else:\n",
    "            align.append(next(iterator))\n",
    "            print(align)\n",
    "\n",
    "    return align"
   ]
  },
  {
   "cell_type": "code",
   "execution_count": 184,
   "id": "26031315",
   "metadata": {},
   "outputs": [
    {
     "name": "stdout",
     "output_type": "stream",
     "text": [
      "[[0, 1, 2, 3, 4, 5], [1, 2, 3, 4, 5, 6], [2, 3, 4, 5, 6, 7], [3, 4, 3, 4, 5, 6], [4, 5, 4, 3, 4, 5], [5, 6, 5, 4, 5, 4]]\n"
     ]
    }
   ],
   "source": [
    "print(t[0])"
   ]
  },
  {
   "cell_type": "code",
   "execution_count": 185,
   "id": "84df2b35",
   "metadata": {},
   "outputs": [
    {
     "name": "stdout",
     "output_type": "stream",
     "text": [
      "(0, 1, 2, 3, 4, 4, 5)\n",
      "(0, 1, 2, 3, 4, 4, 5) drats\n",
      "['d']\n",
      "['d', 'r']\n",
      "['d', 'r', 'a']\n",
      "['d', 'r', 'a', 't']\n",
      "['d', 'r', 'a', 't', '*', 's']\n",
      "(0, 0, 1, 2, 3, 4, 5) maths\n",
      "['*', 'm']\n",
      "['*', 'm', 'a']\n",
      "['*', 'm', 'a', 't']\n",
      "['*', 'm', 'a', 't', 'h']\n",
      "['*', 'm', 'a', 't', 'h', 's']\n"
     ]
    },
    {
     "data": {
      "text/html": [
       "<div>\n",
       "<style scoped>\n",
       "    .dataframe tbody tr th:only-of-type {\n",
       "        vertical-align: middle;\n",
       "    }\n",
       "\n",
       "    .dataframe tbody tr th {\n",
       "        vertical-align: top;\n",
       "    }\n",
       "\n",
       "    .dataframe thead th {\n",
       "        text-align: right;\n",
       "    }\n",
       "</style>\n",
       "<table border=\"1\" class=\"dataframe\">\n",
       "  <thead>\n",
       "    <tr style=\"text-align: right;\">\n",
       "      <th></th>\n",
       "      <th>0</th>\n",
       "      <th>1</th>\n",
       "      <th>2</th>\n",
       "      <th>3</th>\n",
       "      <th>4</th>\n",
       "      <th>5</th>\n",
       "    </tr>\n",
       "  </thead>\n",
       "  <tbody>\n",
       "    <tr>\n",
       "      <th>0</th>\n",
       "      <td>d</td>\n",
       "      <td>r</td>\n",
       "      <td>a</td>\n",
       "      <td>t</td>\n",
       "      <td>*</td>\n",
       "      <td>s</td>\n",
       "    </tr>\n",
       "    <tr>\n",
       "      <th>1</th>\n",
       "      <td>*</td>\n",
       "      <td>m</td>\n",
       "      <td>a</td>\n",
       "      <td>t</td>\n",
       "      <td>h</td>\n",
       "      <td>s</td>\n",
       "    </tr>\n",
       "  </tbody>\n",
       "</table>\n",
       "</div>"
      ],
      "text/plain": [
       "   0  1  2  3  4  5\n",
       "0  d  r  a  t  *  s\n",
       "1  *  m  a  t  h  s"
      ]
     },
     "execution_count": 185,
     "metadata": {},
     "output_type": "execute_result"
    }
   ],
   "source": [
    "path = one_path(t[0]) \n",
    "\n",
    "first_string_path, second_string_path = zip(*path)\n",
    "print(first_string_path)\n",
    "\n",
    "first_align = alignment(FIRST_WORD, first_string_path)\n",
    "second_align = alignment(SECOND_WORD, second_string_path)\n",
    "\n",
    "df = pd.DataFrame([first_align, second_align])\n",
    "df"
   ]
  },
  {
   "cell_type": "code",
   "execution_count": null,
   "id": "1e86b01b",
   "metadata": {},
   "outputs": [],
   "source": []
  },
  {
   "cell_type": "markdown",
   "id": "504a933e",
   "metadata": {},
   "source": [
    "### All Optimal Paths"
   ]
  },
  {
   "cell_type": "code",
   "execution_count": null,
   "id": "b4b98ff2",
   "metadata": {},
   "outputs": [],
   "source": []
  },
  {
   "cell_type": "markdown",
   "id": "3c2bfdcf",
   "metadata": {},
   "source": [
    "# Character Level MED"
   ]
  },
  {
   "cell_type": "code",
   "execution_count": 14,
   "id": "f89fea73",
   "metadata": {},
   "outputs": [],
   "source": [
    "dheerga_swaras = \\\n",
    "    list(range(3201, 3201+3)) + \\\n",
    "    [3260] + \\\n",
    "    list(range(3262, 3277)) + \\\n",
    "    list(range(3278, 3287)) + \\\n",
    "    list(range(3298, 3300))\n",
    "\n",
    "virama = 3277"
   ]
  },
  {
   "cell_type": "code",
   "execution_count": 29,
   "id": "e7a1fa31",
   "metadata": {},
   "outputs": [
    {
     "name": "stdout",
     "output_type": "stream",
     "text": [
      "[(3201, 'ಁ'),\n",
      " (3202, 'ಂ'),\n",
      " (3203, 'ಃ'),\n",
      " (3260, '಼'),\n",
      " (3262, 'ಾ'),\n",
      " (3263, 'ಿ'),\n",
      " (3264, 'ೀ'),\n",
      " (3265, 'ು'),\n",
      " (3266, 'ೂ'),\n",
      " (3267, 'ೃ'),\n",
      " (3268, 'ೄ'),\n",
      " (3270, 'ೆ'),\n",
      " (3271, 'ೇ'),\n",
      " (3272, 'ೈ'),\n",
      " (3274, 'ೊ'),\n",
      " (3275, 'ೋ'),\n",
      " (3276, 'ೌ'),\n",
      " (3285, 'ೕ'),\n",
      " (3286, 'ೖ'),\n",
      " (3298, 'ೢ'),\n",
      " (3299, 'ೣ')]\n"
     ]
    }
   ],
   "source": [
    "pprint([(ch, chr(ch)) for ch in dheerga_swaras if is_valid_unicode(chr(ch))])"
   ]
  },
  {
   "cell_type": "code",
   "execution_count": null,
   "id": "da6f7d87",
   "metadata": {},
   "outputs": [],
   "source": []
  },
  {
   "cell_type": "code",
   "execution_count": null,
   "id": "6f407c4c",
   "metadata": {},
   "outputs": [],
   "source": []
  }
 ],
 "metadata": {
  "kernelspec": {
   "display_name": "Python 3 (ipykernel)",
   "language": "python",
   "name": "python3"
  },
  "language_info": {
   "codemirror_mode": {
    "name": "ipython",
    "version": 3
   },
   "file_extension": ".py",
   "mimetype": "text/x-python",
   "name": "python",
   "nbconvert_exporter": "python",
   "pygments_lexer": "ipython3",
   "version": "3.11.3"
  }
 },
 "nbformat": 4,
 "nbformat_minor": 5
}

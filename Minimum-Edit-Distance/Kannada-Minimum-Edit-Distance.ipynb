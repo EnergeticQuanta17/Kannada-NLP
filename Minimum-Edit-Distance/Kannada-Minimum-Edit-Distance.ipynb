{
 "cells": [
  {
   "cell_type": "code",
   "execution_count": 2,
   "id": "946573a2",
   "metadata": {},
   "outputs": [],
   "source": [
    "import unicodedata\n",
    "import numpy as np"
   ]
  },
  {
   "cell_type": "code",
   "execution_count": 3,
   "id": "9635f324",
   "metadata": {},
   "outputs": [
    {
     "ename": "ModuleNotFoundError",
     "evalue": "No module named 'pandas'",
     "output_type": "error",
     "traceback": [
      "\u001b[1;31m---------------------------------------------------------------------------\u001b[0m",
      "\u001b[1;31mModuleNotFoundError\u001b[0m                       Traceback (most recent call last)",
      "Cell \u001b[1;32mIn[3], line 1\u001b[0m\n\u001b[1;32m----> 1\u001b[0m \u001b[38;5;28;01mimport\u001b[39;00m \u001b[38;5;21;01mpandas\u001b[39;00m \u001b[38;5;28;01mas\u001b[39;00m \u001b[38;5;21;01mpd\u001b[39;00m\n",
      "\u001b[1;31mModuleNotFoundError\u001b[0m: No module named 'pandas'"
     ]
    }
   ],
   "source": [
    "import pandas as pd"
   ]
  },
  {
   "cell_type": "code",
   "execution_count": 7,
   "id": "e6e76a93",
   "metadata": {},
   "outputs": [],
   "source": [
    "from IPython.display import display"
   ]
  },
  {
   "cell_type": "code",
   "execution_count": 8,
   "id": "69ada5ba",
   "metadata": {},
   "outputs": [],
   "source": [
    "def is_valid_unicode(character):\n",
    "    try:\n",
    "        unicodedata.name(character)\n",
    "        return True\n",
    "    except ValueError:\n",
    "        return False"
   ]
  },
  {
   "cell_type": "markdown",
   "id": "d8011997",
   "metadata": {},
   "source": [
    "# All Kannada Letters"
   ]
  },
  {
   "cell_type": "code",
   "execution_count": 9,
   "id": "698057dc",
   "metadata": {},
   "outputs": [
    {
     "name": "stdout",
     "output_type": "stream",
     "text": [
      "['ಀ', 'ಁ', 'ಂ', 'ಃ', '಄', 'ಅ', 'ಆ', 'ಇ', 'ಈ', 'ಉ', 'ಊ', 'ಋ', 'ಌ', 'ಎ', 'ಏ', 'ಐ', 'ಒ', 'ಓ', 'ಔ', 'ಕ', 'ಖ', 'ಗ', 'ಘ', 'ಙ', 'ಚ', 'ಛ', 'ಜ', 'ಝ', 'ಞ', 'ಟ', 'ಠ', 'ಡ', 'ಢ', 'ಣ', 'ತ', 'ಥ', 'ದ', 'ಧ', 'ನ', 'ಪ', 'ಫ', 'ಬ', 'ಭ', 'ಮ', 'ಯ', 'ರ', 'ಱ', 'ಲ', 'ಳ', 'ವ', 'ಶ', 'ಷ', 'ಸ', 'ಹ', '಼', 'ಽ', 'ಾ', 'ಿ', 'ೀ', 'ು', 'ೂ', 'ೃ', 'ೄ', 'ೆ', 'ೇ', 'ೈ', 'ೊ', 'ೋ', 'ೌ', '್', 'ೕ', 'ೖ', 'ೝ', 'ೞ', 'ೠ', 'ೡ', 'ೢ', 'ೣ', '೦', '೧', '೨', '೩', '೪', '೫', '೬', '೭', '೮', '೯', 'ೱ', 'ೲ']\n"
     ]
    }
   ],
   "source": [
    "kannada_letters = [chr(codepoint) for codepoint in range(0x0C80, 0x0CFF + 1) if is_valid_unicode(chr(codepoint))]\n",
    "print(kannada_letters)"
   ]
  },
  {
   "cell_type": "code",
   "execution_count": 10,
   "id": "babe5c42",
   "metadata": {},
   "outputs": [
    {
     "name": "stdout",
     "output_type": "stream",
     "text": [
      "ಀ KANNADA SIGN SPACING CANDRABINDU\n",
      "ಁ KANNADA SIGN CANDRABINDU\n",
      "ಂ KANNADA SIGN ANUSVARA\n",
      "ಃ KANNADA SIGN VISARGA\n",
      "಄ KANNADA SIGN SIDDHAM\n",
      "ಅ KANNADA LETTER A\n",
      "ಆ KANNADA LETTER AA\n",
      "ಇ KANNADA LETTER I\n",
      "ಈ KANNADA LETTER II\n",
      "ಉ KANNADA LETTER U\n",
      "ಊ KANNADA LETTER UU\n",
      "ಋ KANNADA LETTER VOCALIC R\n",
      "ಌ KANNADA LETTER VOCALIC L\n",
      "ಎ KANNADA LETTER E\n",
      "ಏ KANNADA LETTER EE\n",
      "ಐ KANNADA LETTER AI\n",
      "ಒ KANNADA LETTER O\n",
      "ಓ KANNADA LETTER OO\n",
      "ಔ KANNADA LETTER AU\n",
      "ಕ KANNADA LETTER KA\n",
      "ಖ KANNADA LETTER KHA\n",
      "ಗ KANNADA LETTER GA\n",
      "ಘ KANNADA LETTER GHA\n",
      "ಙ KANNADA LETTER NGA\n",
      "ಚ KANNADA LETTER CA\n",
      "ಛ KANNADA LETTER CHA\n",
      "ಜ KANNADA LETTER JA\n",
      "ಝ KANNADA LETTER JHA\n",
      "ಞ KANNADA LETTER NYA\n",
      "ಟ KANNADA LETTER TTA\n",
      "ಠ KANNADA LETTER TTHA\n",
      "ಡ KANNADA LETTER DDA\n",
      "ಢ KANNADA LETTER DDHA\n",
      "ಣ KANNADA LETTER NNA\n",
      "ತ KANNADA LETTER TA\n",
      "ಥ KANNADA LETTER THA\n",
      "ದ KANNADA LETTER DA\n",
      "ಧ KANNADA LETTER DHA\n",
      "ನ KANNADA LETTER NA\n",
      "ಪ KANNADA LETTER PA\n",
      "ಫ KANNADA LETTER PHA\n",
      "ಬ KANNADA LETTER BA\n",
      "ಭ KANNADA LETTER BHA\n",
      "ಮ KANNADA LETTER MA\n",
      "ಯ KANNADA LETTER YA\n",
      "ರ KANNADA LETTER RA\n",
      "ಱ KANNADA LETTER RRA\n",
      "ಲ KANNADA LETTER LA\n",
      "ಳ KANNADA LETTER LLA\n",
      "ವ KANNADA LETTER VA\n",
      "ಶ KANNADA LETTER SHA\n",
      "ಷ KANNADA LETTER SSA\n",
      "ಸ KANNADA LETTER SA\n",
      "ಹ KANNADA LETTER HA\n",
      "಼ KANNADA SIGN NUKTA\n",
      "ಽ KANNADA SIGN AVAGRAHA\n",
      "ಾ KANNADA VOWEL SIGN AA\n",
      "ಿ KANNADA VOWEL SIGN I\n",
      "ೀ KANNADA VOWEL SIGN II\n",
      "ು KANNADA VOWEL SIGN U\n",
      "ೂ KANNADA VOWEL SIGN UU\n",
      "ೃ KANNADA VOWEL SIGN VOCALIC R\n",
      "ೄ KANNADA VOWEL SIGN VOCALIC RR\n",
      "ೆ KANNADA VOWEL SIGN E\n",
      "ೇ KANNADA VOWEL SIGN EE\n",
      "ೈ KANNADA VOWEL SIGN AI\n",
      "ೊ KANNADA VOWEL SIGN O\n",
      "ೋ KANNADA VOWEL SIGN OO\n",
      "ೌ KANNADA VOWEL SIGN AU\n",
      "್ KANNADA SIGN VIRAMA\n",
      "ೕ KANNADA LENGTH MARK\n",
      "ೖ KANNADA AI LENGTH MARK\n",
      "ೝ KANNADA LETTER NAKAARA POLLU\n",
      "ೞ KANNADA LETTER FA\n",
      "ೠ KANNADA LETTER VOCALIC RR\n",
      "ೡ KANNADA LETTER VOCALIC LL\n",
      "ೢ KANNADA VOWEL SIGN VOCALIC L\n",
      "ೣ KANNADA VOWEL SIGN VOCALIC LL\n",
      "೦ KANNADA DIGIT ZERO\n",
      "೧ KANNADA DIGIT ONE\n",
      "೨ KANNADA DIGIT TWO\n",
      "೩ KANNADA DIGIT THREE\n",
      "೪ KANNADA DIGIT FOUR\n",
      "೫ KANNADA DIGIT FIVE\n",
      "೬ KANNADA DIGIT SIX\n",
      "೭ KANNADA DIGIT SEVEN\n",
      "೮ KANNADA DIGIT EIGHT\n",
      "೯ KANNADA DIGIT NINE\n",
      "ೱ KANNADA SIGN JIHVAMULIYA\n",
      "ೲ KANNADA SIGN UPADHMANIYA\n"
     ]
    }
   ],
   "source": [
    "for codepoint in kannada_letters:\n",
    "    print(codepoint, unicodedata.name(codepoint))"
   ]
  },
  {
   "cell_type": "markdown",
   "id": "0727e5d0",
   "metadata": {},
   "source": []
  },
  {
   "cell_type": "code",
   "execution_count": null,
   "id": "3a4c3910",
   "metadata": {},
   "outputs": [],
   "source": []
  },
  {
   "cell_type": "markdown",
   "id": "de039a62",
   "metadata": {},
   "source": [
    "# Unicode Level MED"
   ]
  },
  {
   "cell_type": "markdown",
   "id": "eca545d6",
   "metadata": {},
   "source": []
  },
  {
   "cell_type": "code",
   "execution_count": null,
   "id": "65891ee1",
   "metadata": {},
   "outputs": [],
   "source": [
    "def min_edit_distance(s: str, t: str) -> int:\n",
    "    n = len(s)\n",
    "    m = len(t)\n",
    "\n",
    "    prev = [j for j in range(m+1)]\n",
    "    curr = [0] * (m+1)\n",
    "    \n",
    "    table = []\n",
    "    row_headings    = ['-'] + [st for st in s]\n",
    "    column_headings = ['-'] + [st for st in t]\n",
    "\n",
    "    for i in range(1, n+1):\n",
    "        \n",
    "        curr[0] = i\n",
    "        for j in range(1, m+1):\n",
    "            if s[i-1] == t[j-1]:\n",
    "                curr[j] = prev[j-1]\n",
    "            else:\n",
    "                mn = min(1 + prev[j], 1 + curr[j-1])\n",
    "                curr[j] = min(mn, 2 + prev[j-1])\n",
    "        \n",
    "        table.append(prev)\n",
    "        prev = curr.copy()\n",
    "    \n",
    "    table.append(curr)\n",
    "\n",
    "    return prev[m], (table, row_headings, column_headings)"
   ]
  },
  {
   "cell_type": "code",
   "execution_count": null,
   "id": "2da532d3",
   "metadata": {},
   "outputs": [],
   "source": [
    "words = [\n",
    "    'ನಾನು',\n",
    "    'ನನ್ನಾ',\n",
    "    'ನಿನಗೆ',\n",
    "    'ನಿನಗಾ',\n",
    "    'ನೀನಾ',\n",
    "    'ನೀನ್ನಾ',\n",
    "]"
   ]
  },
  {
   "cell_type": "code",
   "execution_count": null,
   "id": "2d035e57",
   "metadata": {},
   "outputs": [],
   "source": [
    "print(words)\n",
    "for i in words:\n",
    "    for j in words:\n",
    "        print(i, j ,min_edit_distance(i, j)[0])"
   ]
  },
  {
   "cell_type": "code",
   "execution_count": null,
   "id": "ca7d2ec8",
   "metadata": {},
   "outputs": [],
   "source": [
    "first = 'ಕನ್ನಡ'\n",
    "second = 'ಕನ್ನಡಕ'"
   ]
  },
  {
   "cell_type": "code",
   "execution_count": null,
   "id": "aa9adc5d",
   "metadata": {},
   "outputs": [],
   "source": [
    "FIRST_WORD = words[-1]\n",
    "SECOND_WORD = words[-2]\n",
    "FIRST_WORD, SECOND_WORD"
   ]
  },
  {
   "cell_type": "code",
   "execution_count": null,
   "id": "0f15b874",
   "metadata": {},
   "outputs": [],
   "source": [
    "MED, t = min_edit_distance(FIRST_WORD, SECOND_WORD)\n",
    "MED"
   ]
  },
  {
   "cell_type": "code",
   "execution_count": null,
   "id": "1985e786",
   "metadata": {},
   "outputs": [],
   "source": [
    "df = pd.DataFrame(t[0], index=t[1], columns=t[2])\n",
    "df"
   ]
  },
  {
   "cell_type": "markdown",
   "id": "9c31bcf5",
   "metadata": {},
   "source": [
    "### One Optimal Path"
   ]
  },
  {
   "cell_type": "code",
   "execution_count": null,
   "id": "04d50203",
   "metadata": {},
   "outputs": [],
   "source": [
    "def one_path(table):\n",
    "    path = []\n",
    "\n",
    "    i, j = len(table)-1, len(table[0])-1\n",
    "    path.append((i, j))\n",
    "\n",
    "    while(i!=0 and j!=0):\n",
    "        values = [\n",
    "                    table[i-1][j-1],\n",
    "                    table[i-1][j],\n",
    "                    table[i][j-1]\n",
    "                ]\n",
    "        min_index = values.index(min(values))\n",
    "\n",
    "\n",
    "        if(min_index == 0):\n",
    "            i, j = i-1, j-1\n",
    "        elif(min_index == 1):\n",
    "            i, j = i-1, j\n",
    "        else:\n",
    "            i, j = i, j-1\n",
    "\n",
    "        path.append((i, j))\n",
    "#     return path\n",
    "    return list(reversed(path))\n",
    "#     return list(reversed(path+ [(0,0)]))"
   ]
  },
  {
   "cell_type": "code",
   "execution_count": null,
   "id": "6c51eb2e",
   "metadata": {},
   "outputs": [],
   "source": [
    "def yield_characters(string):\n",
    "    for i in string:\n",
    "        yield i"
   ]
  },
  {
   "cell_type": "code",
   "execution_count": null,
   "id": "f13a29af",
   "metadata": {},
   "outputs": [],
   "source": [
    "def alignment(string, path):\n",
    "#     print(path, string)\n",
    "    iterator = yield_characters(string)\n",
    "        \n",
    "    align = []\n",
    "    \n",
    "    for i in range(len(path)-1):\n",
    "        if(path[i]==path[i+1]):\n",
    "            align.append('*')\n",
    "        else:\n",
    "            align.append(next(iterator))\n",
    "#             print(align)\n",
    "\n",
    "    return align"
   ]
  },
  {
   "cell_type": "code",
   "execution_count": null,
   "id": "26031315",
   "metadata": {},
   "outputs": [],
   "source": [
    "pprint(t[0])"
   ]
  },
  {
   "cell_type": "code",
   "execution_count": null,
   "id": "84df2b35",
   "metadata": {},
   "outputs": [],
   "source": [
    "path = one_path(t[0]) \n",
    "\n",
    "first_string_path, second_string_path = zip(*path)\n",
    "print(first_string_path)\n",
    "\n",
    "first_align = alignment(FIRST_WORD, first_string_path)\n",
    "second_align = alignment(SECOND_WORD, second_string_path)\n",
    "\n",
    "df = pd.DataFrame([first_align, second_align])\n",
    "df"
   ]
  },
  {
   "cell_type": "code",
   "execution_count": null,
   "id": "1e86b01b",
   "metadata": {},
   "outputs": [],
   "source": []
  },
  {
   "cell_type": "code",
   "execution_count": null,
   "id": "292383fc",
   "metadata": {},
   "outputs": [],
   "source": [
    "for first_word in words:\n",
    "    for second_word in words:\n",
    "        MED, t = min_edit_distance(first_word, second_word)\n",
    "        path = one_path(t[0]) \n",
    "\n",
    "        first_string_path, second_string_path = zip(*path)\n",
    "#         print(first_string_path)\n",
    "\n",
    "        first_align = alignment(first_word, first_string_path)\n",
    "        second_align = alignment(second_word, second_string_path)\n",
    "\n",
    "        df = pd.DataFrame([first_align, second_align])\n",
    "        display(df)"
   ]
  },
  {
   "cell_type": "code",
   "execution_count": null,
   "id": "e776cc0a",
   "metadata": {},
   "outputs": [],
   "source": []
  },
  {
   "cell_type": "code",
   "execution_count": null,
   "id": "b4b98ff2",
   "metadata": {},
   "outputs": [],
   "source": []
  },
  {
   "cell_type": "markdown",
   "id": "3c2bfdcf",
   "metadata": {},
   "source": [
    "# Character Level MED"
   ]
  },
  {
   "cell_type": "code",
   "execution_count": null,
   "id": "f89fea73",
   "metadata": {},
   "outputs": [],
   "source": [
    "dheerga_swaras = \\\n",
    "    list(range(3201, 3201+3)) + \\\n",
    "    [3260] + \\\n",
    "    list(range(3262, 3277)) + \\\n",
    "    list(range(3278, 3287)) + \\\n",
    "    list(range(3298, 3300))\n",
    "\n",
    "virama = 3277"
   ]
  },
  {
   "cell_type": "code",
   "execution_count": null,
   "id": "e7a1fa31",
   "metadata": {},
   "outputs": [],
   "source": [
    "from pprint import pprint\n",
    "pprint([(ch, chr(ch)) for ch in dheerga_swaras if is_valid_unicode(chr(ch))])"
   ]
  },
  {
   "cell_type": "code",
   "execution_count": null,
   "id": "da6f7d87",
   "metadata": {},
   "outputs": [],
   "source": []
  },
  {
   "cell_type": "code",
   "execution_count": null,
   "id": "6f407c4c",
   "metadata": {},
   "outputs": [],
   "source": [
    "a = 'ನಾ'\n",
    "b = 'ದುಃಖ'\n",
    "c = 'ನಿನಗೆನ್ನಾ'\n",
    "for i in a:\n",
    "    print(i)\n",
    "\n",
    "print()\n",
    "\n",
    "for i in b:\n",
    "    print(i)"
   ]
  },
  {
   "cell_type": "code",
   "execution_count": null,
   "id": "bd686f1f",
   "metadata": {},
   "outputs": [],
   "source": []
  },
  {
   "cell_type": "markdown",
   "id": "a6c2362a",
   "metadata": {},
   "source": [
    "### Unicode to Character"
   ]
  },
  {
   "cell_type": "code",
   "execution_count": null,
   "id": "28fce3d4",
   "metadata": {},
   "outputs": [],
   "source": [
    "def yield_characters(string):\n",
    "    for i in string:\n",
    "        yield i\n"
   ]
  },
  {
   "cell_type": "code",
   "execution_count": null,
   "id": "0dd08149",
   "metadata": {},
   "outputs": [],
   "source": [
    "def u2c(string):\n",
    "    char_level_text = []\n",
    "    current = []\n",
    "    n = len(string)\n",
    "    \n",
    "    i=0\n",
    "    while(i<n):\n",
    "        character = string[i]\n",
    "        current = []\n",
    "        \n",
    "        if(i+1<n and ord(string[i+1])==virama):\n",
    "            current.append((string[i], string[i+1]))\n",
    "            i+=2\n",
    "        \n",
    "        if(i<n and ord(string[i]) not in dheerga_swaras):\n",
    "            current.append(string[i])\n",
    "            i+=1\n",
    "        \n",
    "        if(i<n and ord(string[i]) in dheerga_swaras):\n",
    "            current.append(string[i])\n",
    "            i+=1\n",
    "        \n",
    "        print(current)\n",
    "        char_level_text.append(current)\n",
    "    return char_level_text"
   ]
  },
  {
   "cell_type": "code",
   "execution_count": null,
   "id": "c575c032",
   "metadata": {},
   "outputs": [],
   "source": [
    "c = 'ಚಿನ್ಮಯ'\n",
    "u2c(c)"
   ]
  },
  {
   "cell_type": "code",
   "execution_count": null,
   "id": "c35ba669",
   "metadata": {},
   "outputs": [],
   "source": [
    "def min_edit_distance_character_level(s: str, t: str) -> int:\n",
    "    n = len(s)\n",
    "    m = len(t)\n",
    "\n",
    "    prev = [j for j in range(m+1)]\n",
    "    curr = [0] * (m+1)\n",
    "    \n",
    "    table = []\n",
    "    row_headings    = ['-'] + [st for st in s]\n",
    "    column_headings = ['-'] + [st for st in t]\n",
    "\n",
    "    for i in range(1, n+1):\n",
    "        \n",
    "        curr[0] = i\n",
    "        for j in range(1, m+1):\n",
    "#             print('Currently comparing:')\n",
    "            \n",
    "            if s[i-1] == t[j-1]:\n",
    "                curr[j] = prev[j-1]\n",
    "            else:\n",
    "                cost_from_previous_row = len(s[i-1])\n",
    "                cost_from_current_row  = len(t[j-1])\n",
    "                \n",
    "                mn = min(1 + prev[j], 1 + curr[j-1])\n",
    "                curr[j] = min(mn, 2 + prev[j-1])\n",
    "        \n",
    "        table.append(prev)\n",
    "        prev = curr.copy()\n",
    "    \n",
    "    table.append(curr)\n",
    "\n",
    "    return prev[m], (table, row_headings, column_headings)"
   ]
  },
  {
   "cell_type": "code",
   "execution_count": null,
   "id": "77f1ef4c",
   "metadata": {},
   "outputs": [],
   "source": [
    "min_edit_distance_character_level(u2c(FIRST_WORD), u2c(SECOND_WORD))"
   ]
  },
  {
   "cell_type": "code",
   "execution_count": null,
   "id": "77b421b7",
   "metadata": {},
   "outputs": [],
   "source": []
  },
  {
   "cell_type": "code",
   "execution_count": null,
   "id": "70ffe912",
   "metadata": {},
   "outputs": [],
   "source": [
    "for i in c:\n",
    "    print(i)"
   ]
  },
  {
   "cell_type": "code",
   "execution_count": null,
   "id": "eb2bd7a3",
   "metadata": {},
   "outputs": [],
   "source": [
    "c = 'ನಿನಗೆನ್ನಾ'\n",
    "char_level_text = u2c(c)"
   ]
  },
  {
   "cell_type": "code",
   "execution_count": null,
   "id": "c1d807b0",
   "metadata": {},
   "outputs": [],
   "source": [
    "char_level_text"
   ]
  },
  {
   "cell_type": "code",
   "execution_count": null,
   "id": "1ac8a2f1",
   "metadata": {},
   "outputs": [],
   "source": [
    "len(['ನ', ('್', 'ನ'), 'ಾ'])"
   ]
  },
  {
   "cell_type": "code",
   "execution_count": null,
   "id": "d0b4f84e",
   "metadata": {},
   "outputs": [],
   "source": []
  },
  {
   "cell_type": "code",
   "execution_count": null,
   "id": "40d46d0f",
   "metadata": {},
   "outputs": [],
   "source": []
  },
  {
   "cell_type": "markdown",
   "id": "9087b0e6",
   "metadata": {},
   "source": [
    "# Akshara+Vottu Level MED"
   ]
  },
  {
   "cell_type": "code",
   "execution_count": 5,
   "id": "d121c10e",
   "metadata": {},
   "outputs": [],
   "source": [
    "def min_edit_distance_char_fine(s: str, t: str) -> int:\n",
    "    n = len(s)\n",
    "    m = len(t)\n",
    "\n",
    "#     prev = [j for j in range(m+1)]\n",
    "    prev = [0]\n",
    "    for i in range(m):\n",
    "        prev.append(prev[i]+len(t[i]))\n",
    "\n",
    "    curr = [0] * (m+1)\n",
    "    \n",
    "    table = []\n",
    "    row_headings    = ['-'] + [st for st in s]\n",
    "    column_headings = ['-'] + [st for st in t]\n",
    "\n",
    "    for i in range(1, n+1):\n",
    "        \n",
    "        curr[0] = sum([len(j) for j in s[:i]])\n",
    "        for j in range(1, m+1):\n",
    "#             print('Currently comparing:')\n",
    "            \n",
    "            if s[i-1] == t[j-1]:\n",
    "                curr[j] = prev[j-1]\n",
    "            else:\n",
    "                cost_from_previous_row = len(s[i-1])\n",
    "                cost_from_current_row  = len(t[j-1])\n",
    "                \n",
    "                mn = min(cost_from_previous_row + prev[j], cost_from_current_row + curr[j-1])\n",
    "                cost_of_replacing = len(s[i-1]) + len(t[j-1]) - 2 * len(set(s[i-1]) & set(t[j-1]))\n",
    "                curr[j] = min(mn, cost_of_replacing + prev[j-1])\n",
    "                \n",
    "#                 print()\n",
    "#                 print(s[i-1], t[j-1])\n",
    "#                 print('Intersection', list(set(s[i-1]) & set(t[j-1])))\n",
    "#                 print('Inside else:', '\\ncost_from_previous_row', cost_from_previous_row, \n",
    "#                       '\\ncost_from_current_row', cost_from_current_row,\n",
    "#                       '\\ncost_of_replacing', cost_of_replacing)\n",
    "        \n",
    "        table.append(prev)\n",
    "        prev = curr.copy()\n",
    "    \n",
    "    table.append(curr)\n",
    "\n",
    "    return prev[m], (table, row_headings, column_headings)"
   ]
  },
  {
   "cell_type": "code",
   "execution_count": null,
   "id": "05f6d11e",
   "metadata": {},
   "outputs": [],
   "source": [
    "FIRST_WORD = words[0]\n",
    "SECOND_WORD = words[1]"
   ]
  },
  {
   "cell_type": "code",
   "execution_count": null,
   "id": "bad763ba",
   "metadata": {},
   "outputs": [],
   "source": [
    "MED2, t2 = min_edit_distance_char_fine(u2c(FIRST_WORD), u2c(SECOND_WORD))\n",
    "MED1, t1 = min_edit_distance(FIRST_WORD, SECOND_WORD)"
   ]
  },
  {
   "cell_type": "code",
   "execution_count": null,
   "id": "11f3ac38",
   "metadata": {},
   "outputs": [],
   "source": [
    "FIRST_WORD"
   ]
  },
  {
   "cell_type": "code",
   "execution_count": null,
   "id": "7d92c934",
   "metadata": {},
   "outputs": [],
   "source": [
    "SECOND_WORD"
   ]
  },
  {
   "cell_type": "code",
   "execution_count": null,
   "id": "79dc78be",
   "metadata": {},
   "outputs": [],
   "source": [
    "indices = []\n",
    "print(t2[1])\n",
    "for i in t2[1]:\n",
    "    temp = ''\n",
    "    for j in i:\n",
    "        if isinstance(j, tuple):\n",
    "            for k in j:\n",
    "                temp += k\n",
    "        else:\n",
    "            temp += j\n",
    "    indices.append(temp)\n",
    "indices"
   ]
  },
  {
   "cell_type": "code",
   "execution_count": null,
   "id": "df0beee2",
   "metadata": {},
   "outputs": [],
   "source": [
    "col_indices = []\n",
    "print(t2[2])\n",
    "for i in t2[2]:\n",
    "    temp = ''\n",
    "    for j in i:\n",
    "        if isinstance(j, tuple):\n",
    "            for k in j:\n",
    "                temp += k\n",
    "        else:\n",
    "            temp += j\n",
    "    col_indices.append(temp)\n",
    "col_indices"
   ]
  },
  {
   "cell_type": "code",
   "execution_count": null,
   "id": "fbba45b8",
   "metadata": {},
   "outputs": [],
   "source": [
    "df = pd.DataFrame(t2[0], index=indices, columns=col_indices)\n",
    "df"
   ]
  },
  {
   "cell_type": "code",
   "execution_count": null,
   "id": "9b19903d",
   "metadata": {},
   "outputs": [],
   "source": [
    "FIRST_WORD, SECOND_WORD"
   ]
  },
  {
   "cell_type": "code",
   "execution_count": null,
   "id": "ca7f5f10",
   "metadata": {},
   "outputs": [],
   "source": [
    "for first_word in words:\n",
    "    for second_word in words:\n",
    "        MED2, t2 = min_edit_distance_char_fine(u2c(first_word), u2c(second_word))\n",
    "\n",
    "        indices = []\n",
    "#         print(t2[1])\n",
    "        for i in t2[1]:\n",
    "            temp = ''\n",
    "            for j in i:\n",
    "                if isinstance(j, tuple):\n",
    "                    for k in j:\n",
    "                        temp += k\n",
    "                else:\n",
    "                    temp += j\n",
    "            indices.append(temp)\n",
    "\n",
    "        col_indices = []\n",
    "#         print(t2[2])\n",
    "        for i in t2[2]:\n",
    "            temp = ''\n",
    "            for j in i:\n",
    "                if isinstance(j, tuple):\n",
    "                    for k in j:\n",
    "                        temp += k\n",
    "                else:\n",
    "                    temp += j\n",
    "            col_indices.append(temp)\n",
    "\n",
    "        df = pd.DataFrame(t2[0], index=indices, columns=col_indices)\n",
    "        display(df)\n",
    "        print()"
   ]
  },
  {
   "cell_type": "code",
   "execution_count": null,
   "id": "8a465dc6",
   "metadata": {},
   "outputs": [],
   "source": [
    "path = one_path(t[0]) \n",
    "\n",
    "first_string_path, second_string_path = zip(*path)\n",
    "print(first_string_path, second_string_path)\n",
    "\n",
    "first_align = alignment(u2c(FIRST_WORD), first_string_path)\n",
    "second_align = alignment(u2c(SECOND_WORD), second_string_path)\n",
    "\n",
    "df = pd.DataFrame([first_align, second_align])\n",
    "df"
   ]
  },
  {
   "cell_type": "code",
   "execution_count": null,
   "id": "832eef38",
   "metadata": {},
   "outputs": [],
   "source": [
    "print(words)\n",
    "for i in words:\n",
    "    for j in words:\n",
    "        print(i, j ,min_edit_distance_char_fine(i, j)[0])"
   ]
  },
  {
   "cell_type": "code",
   "execution_count": null,
   "id": "e542ac41",
   "metadata": {},
   "outputs": [],
   "source": [
    "list1 = ['ನ', 'ೀ'] \n",
    "list2 =['ನ', 'ಾ']\n",
    "\n",
    "intersection = list(set(list1) & set(list2))\n",
    "print(intersection)"
   ]
  },
  {
   "cell_type": "code",
   "execution_count": null,
   "id": "5367287c",
   "metadata": {},
   "outputs": [],
   "source": [
    "len(set(list2) & set(list1))"
   ]
  },
  {
   "cell_type": "code",
   "execution_count": 6,
   "id": "8dc3d669",
   "metadata": {},
   "outputs": [
    {
     "data": {
      "text/plain": [
       "(3,\n",
       " ([[0, 1, 2, 3, 4, 5],\n",
       "   [1, 2, 3, 4, 5, 6],\n",
       "   [2, 3, 4, 5, 6, 7],\n",
       "   [3, 4, 3, 4, 5, 6],\n",
       "   [4, 5, 4, 3, 4, 5],\n",
       "   [5, 6, 5, 4, 3, 4],\n",
       "   [6, 7, 6, 5, 4, 3]],\n",
       "  ['-', 'ಪ', 'ು', 'ಸ', '್', 'ತ', 'ಕ'],\n",
       "  ['-', 'ಮ', 'ಸ', '್', 'ತ', 'ಕ']))"
      ]
     },
     "execution_count": 6,
     "metadata": {},
     "output_type": "execute_result"
    }
   ],
   "source": [
    "a = 'ಪುಸ್ತಕ'\n",
    "b = 'ಮಸ್ತಕ'\n",
    "\n",
    "min_edit_distance_char_fine(a, b)"
   ]
  },
  {
   "cell_type": "code",
   "execution_count": null,
   "id": "dd6603eb",
   "metadata": {},
   "outputs": [],
   "source": []
  }
 ],
 "metadata": {
  "kernelspec": {
   "display_name": "Python 3 (ipykernel)",
   "language": "python",
   "name": "python3"
  },
  "language_info": {
   "codemirror_mode": {
    "name": "ipython",
    "version": 3
   },
   "file_extension": ".py",
   "mimetype": "text/x-python",
   "name": "python",
   "nbconvert_exporter": "python",
   "pygments_lexer": "ipython3",
   "version": "3.11.4"
  }
 },
 "nbformat": 4,
 "nbformat_minor": 5
}

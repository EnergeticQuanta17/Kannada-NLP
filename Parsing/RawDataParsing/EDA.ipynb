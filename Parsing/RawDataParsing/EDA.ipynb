{
 "cells": [
  {
   "cell_type": "code",
   "execution_count": 46,
   "id": "378af51c",
   "metadata": {},
   "outputs": [],
   "source": [
    "import pickle\n",
    "import matplotlib.pyplot as plt"
   ]
  },
  {
   "cell_type": "markdown",
   "id": "f224bcac",
   "metadata": {},
   "source": [
    "# Using simple tokenizer"
   ]
  },
  {
   "cell_type": "code",
   "execution_count": 2,
   "id": "dcdfca32",
   "metadata": {},
   "outputs": [],
   "source": [
    "with open('raw_sentences.pickle', 'rb') as file:\n",
    "    all_sentences = pickle.load(file)\n"
   ]
  },
  {
   "cell_type": "code",
   "execution_count": 3,
   "id": "0f363839",
   "metadata": {},
   "outputs": [
    {
     "data": {
      "text/plain": [
       "99766"
      ]
     },
     "execution_count": 3,
     "metadata": {},
     "output_type": "execute_result"
    }
   ],
   "source": [
    "len(all_sentences)"
   ]
  },
  {
   "cell_type": "markdown",
   "id": "f1906e59",
   "metadata": {},
   "source": [
    "```Total number of sentences: 99766```"
   ]
  },
  {
   "cell_type": "code",
   "execution_count": 4,
   "id": "4c048020",
   "metadata": {},
   "outputs": [
    {
     "data": {
      "text/plain": [
       "858434"
      ]
     },
     "execution_count": 4,
     "metadata": {},
     "output_type": "execute_result"
    }
   ],
   "source": [
    "single_sequence = [word for sent in all_sentences for word in sent]\n",
    "len(single_sequence)"
   ]
  },
  {
   "cell_type": "code",
   "execution_count": 5,
   "id": "8d5b94d2",
   "metadata": {},
   "outputs": [
    {
     "data": {
      "text/plain": [
       "230891"
      ]
     },
     "execution_count": 5,
     "metadata": {},
     "output_type": "execute_result"
    }
   ],
   "source": [
    "unique_words = list(set(single_sequence))\n",
    "len(unique_words)"
   ]
  },
  {
   "cell_type": "markdown",
   "id": "e429bd2d",
   "metadata": {},
   "source": [
    "#### Raw Dataset (Simple Tokenizer)\n",
    "```\n",
    "Total number of words: 858434\n",
    "Total number of unique words: 230891\n",
    "Percentage of unique words among all words: 26.9%\n",
    "```"
   ]
  },
  {
   "cell_type": "markdown",
   "id": "f15a387a",
   "metadata": {},
   "source": [
    "Lesser percentage = more repition"
   ]
  },
  {
   "cell_type": "markdown",
   "id": "5c3a92fb",
   "metadata": {},
   "source": [
    "### Annotated Dataset"
   ]
  },
  {
   "cell_type": "code",
   "execution_count": 6,
   "id": "1576ca2e",
   "metadata": {},
   "outputs": [
    {
     "data": {
      "text/plain": [
       "6318"
      ]
     },
     "execution_count": 6,
     "metadata": {},
     "output_type": "execute_result"
    }
   ],
   "source": [
    "with open(r'..\\AnnotatedDatasetParsing\\full_dataset_131.pickle', 'rb') as file:\n",
    "    obj = pickle.load(file)\n",
    "\n",
    "ad_sentences = []\n",
    "for sentence in obj:\n",
    "    temp = []\n",
    "    for chunk in sentence.list_of_chunks:\n",
    "        for word in chunk.list_of_words:\n",
    "            temp.append(word.kannada_word)\n",
    "    ad_sentences.append(temp)\n",
    "\n",
    "len(ad_sentences)"
   ]
  },
  {
   "cell_type": "code",
   "execution_count": 7,
   "id": "63252303",
   "metadata": {},
   "outputs": [
    {
     "data": {
      "text/plain": [
       "103475"
      ]
     },
     "execution_count": 7,
     "metadata": {},
     "output_type": "execute_result"
    }
   ],
   "source": [
    "single_sequence_annotated = [word for sent in ad_sentences for word in sent]\n",
    "len(single_sequence_annotated)"
   ]
  },
  {
   "cell_type": "code",
   "execution_count": 8,
   "id": "f0c8fc29",
   "metadata": {},
   "outputs": [
    {
     "data": {
      "text/plain": [
       "14690"
      ]
     },
     "execution_count": 8,
     "metadata": {},
     "output_type": "execute_result"
    }
   ],
   "source": [
    "unique_annotated_words = list(set(single_sequence_annotated))\n",
    "len(unique_annotated_words)"
   ]
  },
  {
   "cell_type": "markdown",
   "id": "120545ac",
   "metadata": {},
   "source": [
    "#### Annotated Dataset\n",
    "```\n",
    "Total number of words: 103475\n",
    "Total number of unique words: 14690\n",
    "Percentage of unique words among all words: 14.2%\n",
    "```"
   ]
  },
  {
   "cell_type": "markdown",
   "id": "aaaab1b9",
   "metadata": {},
   "source": [
    "### Number of similar words between annotated dataset and raw dataset"
   ]
  },
  {
   "cell_type": "code",
   "execution_count": 9,
   "id": "ce130971",
   "metadata": {},
   "outputs": [
    {
     "data": {
      "text/plain": [
       "8210"
      ]
     },
     "execution_count": 9,
     "metadata": {},
     "output_type": "execute_result"
    }
   ],
   "source": [
    "len(list(set(unique_annotated_words) - set(unique_words)))"
   ]
  },
  {
   "cell_type": "code",
   "execution_count": 10,
   "id": "343816f4",
   "metadata": {},
   "outputs": [
    {
     "data": {
      "text/plain": [
       "6480"
      ]
     },
     "execution_count": 10,
     "metadata": {},
     "output_type": "execute_result"
    }
   ],
   "source": [
    "len(list(set(unique_words) & set(unique_annotated_words)))"
   ]
  },
  {
   "cell_type": "code",
   "execution_count": null,
   "id": "131704cc",
   "metadata": {},
   "outputs": [],
   "source": []
  },
  {
   "cell_type": "markdown",
   "id": "74de5eb9",
   "metadata": {},
   "source": [
    "# Using special character tokenizer"
   ]
  },
  {
   "cell_type": "code",
   "execution_count": 11,
   "id": "bbb05ca7",
   "metadata": {},
   "outputs": [
    {
     "data": {
      "text/plain": [
       "99766"
      ]
     },
     "execution_count": 11,
     "metadata": {},
     "output_type": "execute_result"
    }
   ],
   "source": [
    "with open('delimited_sentences.pickle', 'rb') as file:\n",
    "    delimited_sentences = pickle.load(file)\n",
    "len(delimited_sentences)"
   ]
  },
  {
   "cell_type": "code",
   "execution_count": 12,
   "id": "8e120c4d",
   "metadata": {},
   "outputs": [
    {
     "data": {
      "text/plain": [
       "1082609"
      ]
     },
     "execution_count": 12,
     "metadata": {},
     "output_type": "execute_result"
    }
   ],
   "source": [
    "delimited_single_sequence = [word for sent in delimited_sentences for word in sent]\n",
    "len(delimited_single_sequence)"
   ]
  },
  {
   "cell_type": "code",
   "execution_count": 13,
   "id": "6331ac97",
   "metadata": {},
   "outputs": [
    {
     "data": {
      "text/plain": [
       "186852"
      ]
     },
     "execution_count": 13,
     "metadata": {},
     "output_type": "execute_result"
    }
   ],
   "source": [
    "delimited_unique_words = list(set(delimited_single_sequence))\n",
    "len(delimited_unique_words)"
   ]
  },
  {
   "cell_type": "markdown",
   "id": "a74bca0d",
   "metadata": {},
   "source": [
    "#### Raw Dataset (Special Symbol Tokenizer)\n",
    "```\n",
    "(Total) Extra words obtained by delimiting special characters also:  858434 --> 1082609\n",
    "Unique words obtained by delimiting special characters also: 230891 --> 186852\n",
    "```"
   ]
  },
  {
   "cell_type": "code",
   "execution_count": 14,
   "id": "4175f30b",
   "metadata": {},
   "outputs": [
    {
     "data": {
      "text/plain": [
       "6914"
      ]
     },
     "execution_count": 14,
     "metadata": {},
     "output_type": "execute_result"
    }
   ],
   "source": [
    "len(list(set(delimited_unique_words) & set(unique_annotated_words)))"
   ]
  },
  {
   "cell_type": "code",
   "execution_count": 15,
   "id": "c86e809b",
   "metadata": {},
   "outputs": [
    {
     "name": "stdout",
     "output_type": "stream",
     "text": [
      "[('.', 98070),\n",
      " (',', 43269),\n",
      " ('?', 10246),\n",
      " ('“', 9779),\n",
      " ('”', 9357),\n",
      " ('\\u200c', 8811),\n",
      " ('\"', 6246),\n",
      " ('ಈ', 6201),\n",
      " ('’', 5600),\n",
      " ('ಎಂದು', 5564),\n",
      " ('‘', 5491),\n",
      " ('ಆ', 5442),\n",
      " ('!', 5030),\n",
      " ('-', 4854),\n",
      " ('ಒಂದು', 4641),\n",
      " ('ತನ್ನ', 3765),\n",
      " ('ಮೇಲೆ', 3583),\n",
      " ('ಮತ್ತು', 3566),\n",
      " ('ನನ್ನ', 3131),\n",
      " ('ನಾನು', 3075),\n",
      " ('ಆದರೆ', 2628),\n",
      " ('ಅವರ', 2550),\n",
      " ('ಅಂತ', 2414),\n",
      " ('ಅವನ', 2404),\n",
      " ('ಅವರು', 2384),\n",
      " ('…', 2212),\n",
      " ('ಅದು', 1945),\n",
      " ('ತಮ್ಮ', 1941),\n",
      " ('ಇಲ್ಲ', 1813),\n",
      " ('ಹೋಗಿ', 1773)]\n"
     ]
    }
   ],
   "source": [
    "from collections import Counter\n",
    "from pprint import pprint\n",
    "\n",
    "word_frequency = Counter(delimited_single_sequence)\n",
    "\n",
    "top_words = word_frequency.most_common(30)\n",
    "pprint(top_words)"
   ]
  },
  {
   "cell_type": "code",
   "execution_count": null,
   "id": "bec24304",
   "metadata": {},
   "outputs": [],
   "source": []
  },
  {
   "cell_type": "code",
   "execution_count": null,
   "id": "523fc314",
   "metadata": {},
   "outputs": [],
   "source": []
  },
  {
   "cell_type": "code",
   "execution_count": null,
   "id": "8bcc7f5f",
   "metadata": {},
   "outputs": [],
   "source": []
  },
  {
   "cell_type": "markdown",
   "id": "62919b80",
   "metadata": {},
   "source": [
    "# Comparing with fastText unique words"
   ]
  },
  {
   "cell_type": "code",
   "execution_count": 17,
   "id": "bd855db7",
   "metadata": {},
   "outputs": [
    {
     "data": {
      "text/plain": [
       "1600000"
      ]
     },
     "execution_count": 17,
     "metadata": {},
     "output_type": "execute_result"
    }
   ],
   "source": [
    "fastText_words = []\n",
    "\n",
    "with open('../Embeddings/all_words.txt', 'r', encoding='utf-8') as f:\n",
    "    for line in f:\n",
    "        line = line.strip()\n",
    "        \n",
    "        fastText_words.append(line)\n",
    "len(fastText_words)"
   ]
  },
  {
   "cell_type": "code",
   "execution_count": 22,
   "id": "eb47e1da",
   "metadata": {},
   "outputs": [
    {
     "data": {
      "text/plain": [
       "['.', ',', '</s>', \"'\", '-', 'ಮತ್ತು', ')', '(', '}', ':']"
      ]
     },
     "execution_count": 22,
     "metadata": {},
     "output_type": "execute_result"
    }
   ],
   "source": [
    "fastText_words[:10]"
   ]
  },
  {
   "cell_type": "code",
   "execution_count": 25,
   "id": "e1655b30",
   "metadata": {},
   "outputs": [
    {
     "data": {
      "text/plain": [
       "91590"
      ]
     },
     "execution_count": 25,
     "metadata": {},
     "output_type": "execute_result"
    }
   ],
   "source": [
    "fastText_raw_common = list(set(delimited_unique_words) & set(fastText_words))\n",
    "len(fastText_raw_common)"
   ]
  },
  {
   "cell_type": "markdown",
   "id": "caf63abf",
   "metadata": {},
   "source": [
    "```\n",
    "Size of fastText Embeddings: 1600000\n",
    "Size of unique words in raw dataset: 186852\n",
    "\n",
    "Common available embeddings among the two: 91_590.  (49.02% of total tokens)\n",
    "Need embeddings for: 95262 tokens\n",
    "\n",
    "91_590 out of 1_86_852 have embeddings in fastText. \n",
    "```"
   ]
  },
  {
   "cell_type": "markdown",
   "id": "6de00ce8",
   "metadata": {},
   "source": [
    "```\n",
    "What to do about the remaining unknown embeddings?\n",
    "    1. Train new set of embeddings\n",
    "    2. Stemming  (Prefix matching)\n",
    "            Need to check for stemming and stuff (but getting correct word embeddings from the stem requires the word's POS tag)\n",
    "```"
   ]
  },
  {
   "cell_type": "markdown",
   "id": "05ba1c0e",
   "metadata": {},
   "source": [
    "```\n",
    "FIND OUT\n",
    "    1. has fastText stemmed?\n",
    "    2. Get more data\n",
    "    3. \n",
    "```"
   ]
  },
  {
   "cell_type": "code",
   "execution_count": 26,
   "id": "2bb28af7",
   "metadata": {},
   "outputs": [
    {
     "data": {
      "text/plain": [
       "['ಕೋಚು',\n",
       " 'ಉತ್ತರಕ್ರಿಯೆಯ',\n",
       " 'ಪ್ರಖ್ಯಾತ',\n",
       " 'ವೇಷಧಾರಿಗಳು',\n",
       " 'ರುಚಿಯಾಗಿತ್ತು',\n",
       " 'ಲೇಖಕರೂ',\n",
       " 'ಮಟ್ಟಕ್ಕೂ',\n",
       " 'ಹೆಗಡೆ',\n",
       " 'ಪ್ರಬುದ್ಧತೆಯನ್ನು',\n",
       " 'ಭಾವಿಸುತ್ತಿದ್ದ']"
      ]
     },
     "execution_count": 26,
     "metadata": {},
     "output_type": "execute_result"
    }
   ],
   "source": [
    "fastText_raw_common[:10]"
   ]
  },
  {
   "cell_type": "code",
   "execution_count": 27,
   "id": "937e8ac1",
   "metadata": {},
   "outputs": [
    {
     "data": {
      "text/plain": [
       "95262"
      ]
     },
     "execution_count": 27,
     "metadata": {},
     "output_type": "execute_result"
    }
   ],
   "source": [
    "oov = list(set(delimited_unique_words) - set(fastText_raw_common))\n",
    "len(oov)"
   ]
  },
  {
   "cell_type": "code",
   "execution_count": 28,
   "id": "fdc99828",
   "metadata": {},
   "outputs": [
    {
     "data": {
      "text/plain": [
       "['ಅಳ್ತಿಯ',\n",
       " 'ನಮ್ಮಂಥವ್ರಿಗೆ',\n",
       " 'ಮಾರ್ಗರೀಟಾಳನ್ನ',\n",
       " 'ಹೆರಗೋಗಿ',\n",
       " 'ಆಕಾಂಕ್ಷೆಯು',\n",
       " 'ಘೋರಾರಣ್ಯದ',\n",
       " 'ಗಪೂರ',\n",
       " 'ಮನುಷ್ಯನಾಗಲೂಬಹುದು',\n",
       " 'ತಲ್ದಿಂಬಿಗೆ',\n",
       " 'ಕ್ಷಮಿಸುವರೆಂದು']"
      ]
     },
     "execution_count": 28,
     "metadata": {},
     "output_type": "execute_result"
    }
   ],
   "source": [
    "oov[:10]"
   ]
  },
  {
   "cell_type": "code",
   "execution_count": null,
   "id": "475d0427",
   "metadata": {},
   "outputs": [],
   "source": []
  },
  {
   "cell_type": "markdown",
   "id": "69846d65",
   "metadata": {},
   "source": [
    "#### What is the frequency distribution of words for which embeddings are unknown? (In the raw data)"
   ]
  },
  {
   "cell_type": "code",
   "execution_count": null,
   "id": "c17df7ee",
   "metadata": {},
   "outputs": [],
   "source": [
    "delimited_single_sequence and oov COUNTER"
   ]
  },
  {
   "cell_type": "code",
   "execution_count": 32,
   "id": "2a884d0c",
   "metadata": {},
   "outputs": [
    {
     "ename": "KeyboardInterrupt",
     "evalue": "",
     "output_type": "error",
     "traceback": [
      "\u001b[1;31m---------------------------------------------------------------------------\u001b[0m",
      "\u001b[1;31mKeyboardInterrupt\u001b[0m                         Traceback (most recent call last)",
      "Cell \u001b[1;32mIn[32], line 5\u001b[0m\n\u001b[0;32m      3\u001b[0m \u001b[38;5;28;01mfor\u001b[39;00m word \u001b[38;5;129;01min\u001b[39;00m oov:\n\u001b[0;32m      4\u001b[0m     count \u001b[38;5;241m=\u001b[39m delimited_single_sequence\u001b[38;5;241m.\u001b[39mcount(word)\n\u001b[1;32m----> 5\u001b[0m     oov_word_counts[word] \u001b[38;5;241m=\u001b[39m count\n\u001b[0;32m      7\u001b[0m \u001b[38;5;28mlen\u001b[39m(oov_word_counts)\n",
      "\u001b[1;31mKeyboardInterrupt\u001b[0m: "
     ]
    }
   ],
   "source": [
    "oov_word_counts = {}\n",
    "\n",
    "for word in oov:\n",
    "    count = delimited_single_sequence.count(word)\n",
    "    oov_word_counts[word] = count\n",
    "\n",
    "len(oov_word_counts)"
   ]
  },
  {
   "cell_type": "code",
   "execution_count": null,
   "id": "b4f205e9",
   "metadata": {},
   "outputs": [],
   "source": []
  },
  {
   "cell_type": "code",
   "execution_count": 33,
   "id": "161fefad",
   "metadata": {},
   "outputs": [
    {
     "data": {
      "text/plain": [
       "186852"
      ]
     },
     "execution_count": 33,
     "metadata": {},
     "output_type": "execute_result"
    }
   ],
   "source": [
    "word_counts = Counter(delimited_single_sequence)\n",
    "len(word_counts)"
   ]
  },
  {
   "cell_type": "code",
   "execution_count": 34,
   "id": "957dffaf",
   "metadata": {},
   "outputs": [
    {
     "data": {
      "text/plain": [
       "95262"
      ]
     },
     "execution_count": 34,
     "metadata": {},
     "output_type": "execute_result"
    }
   ],
   "source": [
    "oov_word_counts = {word: word_counts[word] for word in oov}\n",
    "len(oov_word_counts)"
   ]
  },
  {
   "cell_type": "code",
   "execution_count": 43,
   "id": "387bad4a",
   "metadata": {},
   "outputs": [
    {
     "data": {
      "text/plain": [
       "95262"
      ]
     },
     "execution_count": 43,
     "metadata": {},
     "output_type": "execute_result"
    }
   ],
   "source": [
    "sorted_list = sorted(oov_word_counts.items(), key=lambda x: x[1], reverse=True)\n",
    "len(sorted_list)"
   ]
  },
  {
   "cell_type": "code",
   "execution_count": 44,
   "id": "87a737f4",
   "metadata": {},
   "outputs": [
    {
     "data": {
      "text/plain": [
       "('ವಂದ್', 752)"
      ]
     },
     "execution_count": 44,
     "metadata": {},
     "output_type": "execute_result"
    }
   ],
   "source": [
    "sorted_list[0]"
   ]
  },
  {
   "cell_type": "code",
   "execution_count": 48,
   "id": "7eeca0b1",
   "metadata": {},
   "outputs": [
    {
     "data": {
      "text/plain": [
       "(95262, 95262)"
      ]
     },
     "execution_count": 48,
     "metadata": {},
     "output_type": "execute_result"
    }
   ],
   "source": [
    "oov_words, oov_counts = zip(*sorted_list)\n",
    "len(oov_words), len(oov_counts)"
   ]
  },
  {
   "cell_type": "code",
   "execution_count": 49,
   "id": "06494edf",
   "metadata": {},
   "outputs": [
    {
     "data": {
      "text/plain": [
       "(752, 538, 291, 224, 139)"
      ]
     },
     "execution_count": 49,
     "metadata": {},
     "output_type": "execute_result"
    }
   ],
   "source": [
    "oov_counts[:5]"
   ]
  },
  {
   "cell_type": "code",
   "execution_count": 57,
   "id": "766a5c48",
   "metadata": {},
   "outputs": [
    {
     "data": {
      "text/plain": [
       "Text(0.5, 1.0, 'Frequency Distribution')"
      ]
     },
     "execution_count": 57,
     "metadata": {},
     "output_type": "execute_result"
    },
    {
     "data": {
      "image/png": "[encoded data removed]",
      "text/plain": [
       "<Figure size 640x480 with 1 Axes>"
      ]
     },
     "metadata": {},
     "output_type": "display_data"
    }
   ],
   "source": [
    "plt.bar(range(10), oov_counts[:10])\n",
    "plt.xlabel('Words')\n",
    "plt.ylabel('Frequency')\n",
    "plt.title('Frequency Distribution')"
   ]
  },
  {
   "cell_type": "code",
   "execution_count": 58,
   "id": "acbbc744",
   "metadata": {},
   "outputs": [
    {
     "data": {
      "text/plain": [
       "Text(0.5, 1.0, 'Frequency Distribution')"
      ]
     },
     "execution_count": 58,
     "metadata": {},
     "output_type": "execute_result"
    },
    {
     "data": {
      "image/png": "[encoded data removed]",
      "text/plain": [
       "<Figure size 640x480 with 1 Axes>"
      ]
     },
     "metadata": {},
     "output_type": "display_data"
    }
   ],
   "source": [
    "plt.bar(range(100), oov_counts[:100])\n",
    "plt.xlabel('Words')\n",
    "plt.ylabel('Frequency')\n",
    "plt.title('Frequency Distribution')"
   ]
  },
  {
   "cell_type": "code",
   "execution_count": 64,
   "id": "a227ccfa",
   "metadata": {},
   "outputs": [
    {
     "data": {
      "text/plain": [
       "(81350, 95262)"
      ]
     },
     "execution_count": 64,
     "metadata": {},
     "output_type": "execute_result"
    }
   ],
   "source": [
    "oov_counts.count(1), len(oov_counts)"
   ]
  },
  {
   "cell_type": "markdown",
   "id": "4f1eb32d",
   "metadata": {},
   "source": [
    "```\n",
    "    81350 out of 95262 words for which embeddings is not known, appears **ONLY ONCE**.\n",
    "    81350 + 8695 out of 95262 words for which embeddings is not known, appears **ONLY ONCE**.\n",
    "```"
   ]
  },
  {
   "cell_type": "code",
   "execution_count": 65,
   "id": "2c7d1a76",
   "metadata": {},
   "outputs": [
    {
     "data": {
      "text/plain": [
       "13912"
      ]
     },
     "execution_count": 65,
     "metadata": {},
     "output_type": "execute_result"
    }
   ],
   "source": [
    "95262 - 81350"
   ]
  },
  {
   "cell_type": "code",
   "execution_count": 66,
   "id": "6eaa9242",
   "metadata": {},
   "outputs": [
    {
     "data": {
      "text/plain": [
       "Text(0.5, 1.0, 'Frequency Distribution')"
      ]
     },
     "execution_count": 66,
     "metadata": {},
     "output_type": "execute_result"
    },
    {
     "data": {
      "image/png": "[encoded data removed]",
      "text/plain": [
       "<Figure size 640x480 with 1 Axes>"
      ]
     },
     "metadata": {},
     "output_type": "display_data"
    }
   ],
   "source": [
    "plt.bar(range(13912), oov_counts[:13912])\n",
    "plt.xlabel('Words')\n",
    "plt.ylabel('Frequency')\n",
    "plt.title('Frequency Distribution')"
   ]
  },
  {
   "cell_type": "code",
   "execution_count": 71,
   "id": "37194326",
   "metadata": {},
   "outputs": [],
   "source": [
    "more_than_once = zip(oov_words[:13912], oov_counts[:13912])"
   ]
  },
  {
   "cell_type": "code",
   "execution_count": 72,
   "id": "4fdbaaa1",
   "metadata": {},
   "outputs": [
    {
     "data": {
      "text/plain": [
       "(13912, 13912)"
      ]
     },
     "execution_count": 72,
     "metadata": {},
     "output_type": "execute_result"
    }
   ],
   "source": [
    "more_than_once_words, more_than_once_counts = zip(*more_than_once)\n",
    "len(more_than_once_words), len(more_than_once_counts)"
   ]
  },
  {
   "cell_type": "code",
   "execution_count": 73,
   "id": "c16fa45f",
   "metadata": {},
   "outputs": [
    {
     "name": "stdout",
     "output_type": "stream",
     "text": [
      "Mean: 3.5613858539390453\n",
      "Median: 2.0\n",
      "Mode: 2\n",
      "Standard Deviation: 9.571299532729013\n",
      "Variance: 91.6097747452186\n"
     ]
    }
   ],
   "source": [
    "import statistics\n",
    "\n",
    "mean = statistics.mean(more_than_once_counts)\n",
    "median = statistics.median(more_than_once_counts)\n",
    "mode = statistics.mode(more_than_once_counts)\n",
    "stdev = statistics.stdev(more_than_once_counts)\n",
    "variance = statistics.variance(more_than_once_counts)\n",
    "\n",
    "print(\"Mean:\", mean)\n",
    "print(\"Median:\", median)\n",
    "print(\"Mode:\", mode)\n",
    "print(\"Standard Deviation:\", stdev)\n",
    "print(\"Variance:\", variance)"
   ]
  },
  {
   "cell_type": "code",
   "execution_count": 86,
   "id": "13851629",
   "metadata": {},
   "outputs": [
    {
     "name": "stdout",
     "output_type": "stream",
     "text": [
      "1 81350 Cumulative sum: 81350\n",
      "Percentage till here: 0.8539606558753753 \n",
      "\n",
      "2 8695 Cumulative sum: 90045\n",
      "Percentage till here: 0.9452352459532657 \n",
      "\n",
      "3 2285 Cumulative sum: 92330\n",
      "Percentage till here: 0.969221725346938 \n",
      "\n",
      "4 1028 Cumulative sum: 93358\n",
      "Percentage till here: 0.9800130167328001 \n",
      "\n",
      "5 546 Cumulative sum: 93904\n",
      "Percentage till here: 0.9857445781108942 \n",
      "\n",
      "6 311 Cumulative sum: 94215\n",
      "Percentage till here: 0.9890092586760723 \n",
      "\n",
      "7 197 Cumulative sum: 94412\n",
      "Percentage till here: 0.9910772396128572 \n",
      "\n",
      "8 160 Cumulative sum: 94572\n",
      "Percentage till here: 0.9927568180386723 \n",
      "\n",
      "9 109 Cumulative sum: 94681\n",
      "Percentage till here: 0.9939010308412588 \n",
      "\n",
      "10 93 Cumulative sum: 94774\n",
      "Percentage till here: 0.9948772858012639 \n",
      "\n"
     ]
    }
   ],
   "source": [
    "cumulative = []\n",
    "cumulative_sum = 0\n",
    "for i in range(1, 11):\n",
    "    cumulative_sum += oov_counts.count(i)\n",
    "    cumulative.append(cumulative_sum/len(oov_counts))\n",
    "    print(i, oov_counts.count(i), f\"Cumulative sum: {cumulative_sum}\")\n",
    "    print(f\"Percentage till here: {cumulative_sum/len(oov_counts)}\", '\\n')"
   ]
  },
  {
   "cell_type": "code",
   "execution_count": null,
   "id": "44deee12",
   "metadata": {},
   "outputs": [],
   "source": []
  },
  {
   "cell_type": "code",
   "execution_count": null,
   "id": "07d2b1ee",
   "metadata": {},
   "outputs": [],
   "source": []
  },
  {
   "cell_type": "code",
   "execution_count": 87,
   "id": "2829814f",
   "metadata": {},
   "outputs": [
    {
     "data": {
      "image/png": "[encoded data removed]",
      "text/plain": [
       "<Figure size 640x480 with 1 Axes>"
      ]
     },
     "metadata": {},
     "output_type": "display_data"
    }
   ],
   "source": [
    "plt.plot(range(1, 11), cumulative, marker='o')\n",
    "plt.xlabel('Numbers')\n",
    "plt.ylabel('Cumulative Frequency')\n",
    "plt.title('Cumulative Frequency Plot')\n",
    "plt.grid(True)\n",
    "plt.show()\n"
   ]
  }
 ],
 "metadata": {
  "kernelspec": {
   "display_name": "Python 3 (ipykernel)",
   "language": "python",
   "name": "python3"
  },
  "language_info": {
   "codemirror_mode": {
    "name": "ipython",
    "version": 3
   },
   "file_extension": ".py",
   "mimetype": "text/x-python",
   "name": "python",
   "nbconvert_exporter": "python",
   "pygments_lexer": "ipython3",
   "version": "3.11.4"
  }
 },
 "nbformat": 4,
 "nbformat_minor": 5
}

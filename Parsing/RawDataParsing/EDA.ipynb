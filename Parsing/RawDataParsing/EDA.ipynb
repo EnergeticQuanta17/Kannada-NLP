{
 "cells": [
  {
   "cell_type": "code",
   "execution_count": 40,
   "id": "598f9026",
   "metadata": {},
   "outputs": [],
   "source": [
    "import pickle"
   ]
  },
  {
   "cell_type": "markdown",
   "id": "2f53df1f",
   "metadata": {},
   "source": [
    "# Using simple tokenizer"
   ]
  },
  {
   "cell_type": "code",
   "execution_count": 41,
   "id": "23d09cd3",
   "metadata": {},
   "outputs": [],
   "source": [
    "with open('raw_sentences.pickle', 'rb') as file:\n",
    "    all_sentences = pickle.load(file)\n"
   ]
  },
  {
   "cell_type": "code",
   "execution_count": 42,
   "id": "3a088433",
   "metadata": {},
   "outputs": [
    {
     "data": {
      "text/plain": [
       "99766"
      ]
     },
     "execution_count": 42,
     "metadata": {},
     "output_type": "execute_result"
    }
   ],
   "source": [
    "len(all_sentences)"
   ]
  },
  {
   "cell_type": "markdown",
   "id": "348f6a48",
   "metadata": {},
   "source": [
    "```Total number of sentences: 99766```"
   ]
  },
  {
   "cell_type": "code",
   "execution_count": 43,
   "id": "e535e0c9",
   "metadata": {},
   "outputs": [
    {
     "data": {
      "text/plain": [
       "858434"
      ]
     },
     "execution_count": 43,
     "metadata": {},
     "output_type": "execute_result"
    }
   ],
   "source": [
    "single_sequence = [word for sent in all_sentences for word in sent]\n",
    "len(single_sequence)"
   ]
  },
  {
   "cell_type": "code",
   "execution_count": 44,
   "id": "3974b748",
   "metadata": {},
   "outputs": [
    {
     "data": {
      "text/plain": [
       "230891"
      ]
     },
     "execution_count": 44,
     "metadata": {},
     "output_type": "execute_result"
    }
   ],
   "source": [
    "unique_words = list(set(single_sequence))\n",
    "len(unique_words)"
   ]
  },
  {
   "cell_type": "markdown",
   "id": "93bb45bd",
   "metadata": {},
   "source": [
    "#### Raw Dataset\n",
    "```\n",
    "Total number of words: 858434\n",
    "Total number of unique words: 230891\n",
    "Percentage of unique words among all words: 26.9%\n",
    "```"
   ]
  },
  {
   "cell_type": "markdown",
   "id": "7b85cd23",
   "metadata": {},
   "source": [
    "Lesser percentage = more repition"
   ]
  },
  {
   "cell_type": "markdown",
   "id": "06139539",
   "metadata": {},
   "source": [
    "### Annotated Dataset"
   ]
  },
  {
   "cell_type": "code",
   "execution_count": 45,
   "id": "65bc9e0f",
   "metadata": {},
   "outputs": [
    {
     "data": {
      "text/plain": [
       "6318"
      ]
     },
     "execution_count": 45,
     "metadata": {},
     "output_type": "execute_result"
    }
   ],
   "source": [
    "with open(r'..\\AnnotatedDatasetParsing\\full_dataset_131.pickle', 'rb') as file:\n",
    "    obj = pickle.load(file)\n",
    "\n",
    "ad_sentences = []\n",
    "for sentence in obj:\n",
    "    temp = []\n",
    "    for chunk in sentence.list_of_chunks:\n",
    "        for word in chunk.list_of_words:\n",
    "            temp.append(word.kannada_word)\n",
    "    ad_sentences.append(temp)\n",
    "\n",
    "len(ad_sentences)"
   ]
  },
  {
   "cell_type": "code",
   "execution_count": 48,
   "id": "6caefe41",
   "metadata": {},
   "outputs": [
    {
     "data": {
      "text/plain": [
       "103475"
      ]
     },
     "execution_count": 48,
     "metadata": {},
     "output_type": "execute_result"
    }
   ],
   "source": [
    "single_sequence_annotated = [word for sent in ad_sentences for word in sent]\n",
    "len(single_sequence_annotated)"
   ]
  },
  {
   "cell_type": "code",
   "execution_count": 50,
   "id": "b8e5c261",
   "metadata": {},
   "outputs": [
    {
     "data": {
      "text/plain": [
       "14690"
      ]
     },
     "execution_count": 50,
     "metadata": {},
     "output_type": "execute_result"
    }
   ],
   "source": [
    "unique_annotated_words = list(set(single_sequence_annotated))\n",
    "len(unique_annotated_words)"
   ]
  },
  {
   "cell_type": "markdown",
   "id": "7980ee0f",
   "metadata": {},
   "source": [
    "#### Annotated Dataset\n",
    "```\n",
    "Total number of words: 103475\n",
    "Total number of unique words: 14690\n",
    "Percentage of unique words among all words: 14.2%\n",
    "```"
   ]
  },
  {
   "cell_type": "markdown",
   "id": "396c01a3",
   "metadata": {},
   "source": [
    "### Number of similar words between annotated dataset and raw dataset"
   ]
  },
  {
   "cell_type": "code",
   "execution_count": 52,
   "id": "0f9a0d8a",
   "metadata": {},
   "outputs": [
    {
     "data": {
      "text/plain": [
       "8210"
      ]
     },
     "execution_count": 52,
     "metadata": {},
     "output_type": "execute_result"
    }
   ],
   "source": [
    "len(list(set(unique_annotated_words) - set(unique_words)))"
   ]
  },
  {
   "cell_type": "code",
   "execution_count": 54,
   "id": "9272f1f3",
   "metadata": {},
   "outputs": [
    {
     "data": {
      "text/plain": [
       "6480"
      ]
     },
     "execution_count": 54,
     "metadata": {},
     "output_type": "execute_result"
    }
   ],
   "source": [
    "len(list(set(unique_words) & set(unique_annotated_words)))"
   ]
  },
  {
   "cell_type": "code",
   "execution_count": null,
   "id": "9cbb0a76",
   "metadata": {},
   "outputs": [],
   "source": []
  },
  {
   "cell_type": "markdown",
   "id": "057cd8db",
   "metadata": {},
   "source": [
    "# Using special character tokenizer"
   ]
  },
  {
   "cell_type": "code",
   "execution_count": 55,
   "id": "efc796b4",
   "metadata": {},
   "outputs": [
    {
     "data": {
      "text/plain": [
       "99766"
      ]
     },
     "execution_count": 55,
     "metadata": {},
     "output_type": "execute_result"
    }
   ],
   "source": [
    "with open('delimited_sentences.pickle', 'rb') as file:\n",
    "    delimited_sentences = pickle.load(file)\n",
    "len(delimited_sentences)"
   ]
  },
  {
   "cell_type": "code",
   "execution_count": 56,
   "id": "7ae20456",
   "metadata": {},
   "outputs": [
    {
     "data": {
      "text/plain": [
       "1082609"
      ]
     },
     "execution_count": 56,
     "metadata": {},
     "output_type": "execute_result"
    }
   ],
   "source": [
    "delimited_single_sequence = [word for sent in delimited_sentences for word in sent]\n",
    "len(delimited_single_sequence)"
   ]
  },
  {
   "cell_type": "code",
   "execution_count": 57,
   "id": "dd34209b",
   "metadata": {},
   "outputs": [
    {
     "data": {
      "text/plain": [
       "186852"
      ]
     },
     "execution_count": 57,
     "metadata": {},
     "output_type": "execute_result"
    }
   ],
   "source": [
    "delimited_unique_words = list(set(delimited_single_sequence))\n",
    "len(delimited_unique_words)"
   ]
  },
  {
   "cell_type": "markdown",
   "id": "5132380b",
   "metadata": {},
   "source": [
    "```\n",
    "(Total) Extra words obtained by delimiting special characters also:  858434 --> 1082609\n",
    "Unique words obtained by delimiting special characters also: 230891 --> 186852\n",
    "```"
   ]
  },
  {
   "cell_type": "code",
   "execution_count": 59,
   "id": "ae0c527b",
   "metadata": {},
   "outputs": [
    {
     "data": {
      "text/plain": [
       "6914"
      ]
     },
     "execution_count": 59,
     "metadata": {},
     "output_type": "execute_result"
    }
   ],
   "source": [
    "len(list(set(delimited_unique_words) & set(unique_annotated_words)))"
   ]
  },
  {
   "cell_type": "code",
   "execution_count": null,
   "id": "cda915a1",
   "metadata": {},
   "outputs": [],
   "source": []
  },
  {
   "cell_type": "markdown",
   "id": "f6ddacea",
   "metadata": {},
   "source": [
    "# Comparing with fastText unique words"
   ]
  },
  {
   "cell_type": "code",
   "execution_count": 66,
   "id": "3d268c63",
   "metadata": {},
   "outputs": [
    {
     "data": {
      "text/plain": [
       "1600000"
      ]
     },
     "execution_count": 66,
     "metadata": {},
     "output_type": "execute_result"
    }
   ],
   "source": [
    "fastText_words = []\n",
    "\n",
    "with open('../Embeddings/all_words.txt', 'r', encoding='utf-8') as f:\n",
    "    for line in f:\n",
    "        line = line.strip()\n",
    "        \n",
    "        fastText_words.append(line)\n",
    "len(fastText_words)"
   ]
  },
  {
   "cell_type": "code",
   "execution_count": 64,
   "id": "70903ac4",
   "metadata": {},
   "outputs": [
    {
     "data": {
      "text/plain": [
       "91590"
      ]
     },
     "execution_count": 64,
     "metadata": {},
     "output_type": "execute_result"
    }
   ],
   "source": [
    "len(list(set(delimited_unique_words) & set(fastText_words)))"
   ]
  },
  {
   "cell_type": "markdown",
   "id": "8419ef5e",
   "metadata": {},
   "source": [
    "```\n",
    "Size of fastText Embeddings: 91590\n",
    "Size of unique words in raw dataset: 91590\n",
    "91_590 out of 1_86_852 have embeddings in fastText. (49.02%)\n",
    "Need to check for stemming and stuff (but getting correct word embeddings from the stem requires the word's POS tag)\n",
    "```"
   ]
  },
  {
   "cell_type": "markdown",
   "id": "b1d272f4",
   "metadata": {},
   "source": [
    "```\n",
    "What to do about the remaining unknown embeddigngs?\n",
    "```"
   ]
  }
 ],
 "metadata": {
  "kernelspec": {
   "display_name": "Python 3 (ipykernel)",
   "language": "python",
   "name": "python3"
  },
  "language_info": {
   "codemirror_mode": {
    "name": "ipython",
    "version": 3
   },
   "file_extension": ".py",
   "mimetype": "text/x-python",
   "name": "python",
   "nbconvert_exporter": "python",
   "pygments_lexer": "ipython3",
   "version": "3.11.4"
  }
 },
 "nbformat": 4,
 "nbformat_minor": 5
}

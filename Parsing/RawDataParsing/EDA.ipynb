{
 "cells": [
  {
   "cell_type": "code",
   "execution_count": 40,
   "id": "378af51c",
   "metadata": {},
   "outputs": [],
   "source": [
    "import pickle"
   ]
  },
  {
   "cell_type": "markdown",
   "id": "f224bcac",
   "metadata": {},
   "source": [
    "# Using simple tokenizer"
   ]
  },
  {
   "cell_type": "code",
   "execution_count": 41,
   "id": "dcdfca32",
   "metadata": {},
   "outputs": [],
   "source": [
    "with open('raw_sentences.pickle', 'rb') as file:\n",
    "    all_sentences = pickle.load(file)\n"
   ]
  },
  {
   "cell_type": "code",
   "execution_count": 42,
   "id": "0f363839",
   "metadata": {},
   "outputs": [
    {
     "data": {
      "text/plain": [
       "99766"
      ]
     },
     "execution_count": 42,
     "metadata": {},
     "output_type": "execute_result"
    }
   ],
   "source": [
    "len(all_sentences)"
   ]
  },
  {
   "cell_type": "markdown",
   "id": "f1906e59",
   "metadata": {},
   "source": [
    "```Total number of sentences: 99766```"
   ]
  },
  {
   "cell_type": "code",
   "execution_count": 43,
   "id": "4c048020",
   "metadata": {},
   "outputs": [
    {
     "data": {
      "text/plain": [
       "858434"
      ]
     },
     "execution_count": 43,
     "metadata": {},
     "output_type": "execute_result"
    }
   ],
   "source": [
    "single_sequence = [word for sent in all_sentences for word in sent]\n",
    "len(single_sequence)"
   ]
  },
  {
   "cell_type": "code",
   "execution_count": 44,
   "id": "8d5b94d2",
   "metadata": {},
   "outputs": [
    {
     "data": {
      "text/plain": [
       "230891"
      ]
     },
     "execution_count": 44,
     "metadata": {},
     "output_type": "execute_result"
    }
   ],
   "source": [
    "unique_words = list(set(single_sequence))\n",
    "len(unique_words)"
   ]
  },
  {
   "cell_type": "markdown",
   "id": "e429bd2d",
   "metadata": {},
   "source": [
    "#### Raw Dataset\n",
    "```\n",
    "Total number of words: 858434\n",
    "Total number of unique words: 230891\n",
    "Percentage of unique words among all words: 26.9%\n",
    "```"
   ]
  },
  {
   "cell_type": "markdown",
   "id": "f15a387a",
   "metadata": {},
   "source": [
    "Lesser percentage = more repition"
   ]
  },
  {
   "cell_type": "markdown",
   "id": "5c3a92fb",
   "metadata": {},
   "source": [
    "### Annotated Dataset"
   ]
  },
  {
   "cell_type": "code",
   "execution_count": 45,
   "id": "1576ca2e",
   "metadata": {},
   "outputs": [
    {
     "data": {
      "text/plain": [
       "6318"
      ]
     },
     "execution_count": 45,
     "metadata": {},
     "output_type": "execute_result"
    }
   ],
   "source": [
    "with open(r'..\\AnnotatedDatasetParsing\\full_dataset_131.pickle', 'rb') as file:\n",
    "    obj = pickle.load(file)\n",
    "\n",
    "ad_sentences = []\n",
    "for sentence in obj:\n",
    "    temp = []\n",
    "    for chunk in sentence.list_of_chunks:\n",
    "        for word in chunk.list_of_words:\n",
    "            temp.append(word.kannada_word)\n",
    "    ad_sentences.append(temp)\n",
    "\n",
    "len(ad_sentences)"
   ]
  },
  {
   "cell_type": "code",
   "execution_count": 48,
   "id": "63252303",
   "metadata": {},
   "outputs": [
    {
     "data": {
      "text/plain": [
       "103475"
      ]
     },
     "execution_count": 48,
     "metadata": {},
     "output_type": "execute_result"
    }
   ],
   "source": [
    "single_sequence_annotated = [word for sent in ad_sentences for word in sent]\n",
    "len(single_sequence_annotated)"
   ]
  },
  {
   "cell_type": "code",
   "execution_count": 50,
   "id": "f0c8fc29",
   "metadata": {},
   "outputs": [
    {
     "data": {
      "text/plain": [
       "14690"
      ]
     },
     "execution_count": 50,
     "metadata": {},
     "output_type": "execute_result"
    }
   ],
   "source": [
    "unique_annotated_words = list(set(single_sequence_annotated))\n",
    "len(unique_annotated_words)"
   ]
  },
  {
   "cell_type": "markdown",
   "id": "120545ac",
   "metadata": {},
   "source": [
    "#### Annotated Dataset\n",
    "```\n",
    "Total number of words: 103475\n",
    "Total number of unique words: 14690\n",
    "Percentage of unique words among all words: 14.2%\n",
    "```"
   ]
  },
  {
   "cell_type": "markdown",
   "id": "aaaab1b9",
   "metadata": {},
   "source": [
    "### Number of similar words between annotated dataset and raw dataset"
   ]
  },
  {
   "cell_type": "code",
   "execution_count": 52,
   "id": "ce130971",
   "metadata": {},
   "outputs": [
    {
     "data": {
      "text/plain": [
       "8210"
      ]
     },
     "execution_count": 52,
     "metadata": {},
     "output_type": "execute_result"
    }
   ],
   "source": [
    "len(list(set(unique_annotated_words) - set(unique_words)))"
   ]
  },
  {
   "cell_type": "code",
   "execution_count": 54,
   "id": "343816f4",
   "metadata": {},
   "outputs": [
    {
     "data": {
      "text/plain": [
       "6480"
      ]
     },
     "execution_count": 54,
     "metadata": {},
     "output_type": "execute_result"
    }
   ],
   "source": [
    "len(list(set(unique_words) & set(unique_annotated_words)))"
   ]
  },
  {
   "cell_type": "code",
   "execution_count": null,
   "id": "131704cc",
   "metadata": {},
   "outputs": [],
   "source": []
  },
  {
   "cell_type": "markdown",
   "id": "74de5eb9",
   "metadata": {},
   "source": [
    "# Using special character tokenizer"
   ]
  },
  {
   "cell_type": "code",
   "execution_count": 55,
   "id": "bbb05ca7",
   "metadata": {},
   "outputs": [
    {
     "data": {
      "text/plain": [
       "99766"
      ]
     },
     "execution_count": 55,
     "metadata": {},
     "output_type": "execute_result"
    }
   ],
   "source": [
    "with open('delimited_sentences.pickle', 'rb') as file:\n",
    "    delimited_sentences = pickle.load(file)\n",
    "len(delimited_sentences)"
   ]
  },
  {
   "cell_type": "code",
   "execution_count": 56,
   "id": "8e120c4d",
   "metadata": {},
   "outputs": [
    {
     "data": {
      "text/plain": [
       "1082609"
      ]
     },
     "execution_count": 56,
     "metadata": {},
     "output_type": "execute_result"
    }
   ],
   "source": [
    "delimited_single_sequence = [word for sent in delimited_sentences for word in sent]\n",
    "len(delimited_single_sequence)"
   ]
  },
  {
   "cell_type": "code",
   "execution_count": 57,
   "id": "6331ac97",
   "metadata": {},
   "outputs": [
    {
     "data": {
      "text/plain": [
       "186852"
      ]
     },
     "execution_count": 57,
     "metadata": {},
     "output_type": "execute_result"
    }
   ],
   "source": [
    "delimited_unique_words = list(set(delimited_single_sequence))\n",
    "len(delimited_unique_words)"
   ]
  },
  {
   "cell_type": "markdown",
   "id": "a74bca0d",
   "metadata": {},
   "source": [
    "```\n",
    "(Total) Extra words obtained by delimiting special characters also:  858434 --> 1082609\n",
    "Unique words obtained by delimiting special characters also: 230891 --> 186852\n",
    "```"
   ]
  },
  {
   "cell_type": "code",
   "execution_count": 59,
   "id": "4175f30b",
   "metadata": {},
   "outputs": [
    {
     "data": {
      "text/plain": [
       "6914"
      ]
     },
     "execution_count": 59,
     "metadata": {},
     "output_type": "execute_result"
    }
   ],
   "source": [
    "len(list(set(delimited_unique_words) & set(unique_annotated_words)))"
   ]
  },
  {
   "cell_type": "code",
   "execution_count": 75,
   "id": "c86e809b",
   "metadata": {},
   "outputs": [
    {
     "name": "stdout",
     "output_type": "stream",
     "text": [
      "[('.', 98070),\n",
      " (',', 43269),\n",
      " ('?', 10246),\n",
      " ('“', 9779),\n",
      " ('”', 9357),\n",
      " ('\\u200c', 8811),\n",
      " ('\"', 6246),\n",
      " ('ಈ', 6201),\n",
      " ('’', 5600),\n",
      " ('ಎಂದು', 5564),\n",
      " ('‘', 5491),\n",
      " ('ಆ', 5442),\n",
      " ('!', 5030),\n",
      " ('-', 4854),\n",
      " ('ಒಂದು', 4641),\n",
      " ('ತನ್ನ', 3765),\n",
      " ('ಮೇಲೆ', 3583),\n",
      " ('ಮತ್ತು', 3566),\n",
      " ('ನನ್ನ', 3131),\n",
      " ('ನಾನು', 3075)]\n"
     ]
    }
   ],
   "source": [
    "from collections import Counter\n",
    "from pprint import pprint\n",
    "\n",
    "word_frequency = Counter(delimited_single_sequence)\n",
    "\n",
    "top_words = word_frequency.most_common(20)\n",
    "pprint(top_words)"
   ]
  },
  {
   "cell_type": "code",
   "execution_count": null,
   "id": "bec24304",
   "metadata": {},
   "outputs": [],
   "source": []
  },
  {
   "cell_type": "code",
   "execution_count": null,
   "id": "523fc314",
   "metadata": {},
   "outputs": [],
   "source": []
  },
  {
   "cell_type": "code",
   "execution_count": null,
   "id": "8bcc7f5f",
   "metadata": {},
   "outputs": [],
   "source": []
  },
  {
   "cell_type": "markdown",
   "id": "62919b80",
   "metadata": {},
   "source": [
    "# Comparing with fastText unique words"
   ]
  },
  {
   "cell_type": "code",
   "execution_count": 66,
   "id": "bd855db7",
   "metadata": {},
   "outputs": [
    {
     "data": {
      "text/plain": [
       "1600000"
      ]
     },
     "execution_count": 66,
     "metadata": {},
     "output_type": "execute_result"
    }
   ],
   "source": [
    "fastText_words = []\n",
    "\n",
    "with open('../Embeddings/all_words.txt', 'r', encoding='utf-8') as f:\n",
    "    for line in f:\n",
    "        line = line.strip()\n",
    "        \n",
    "        fastText_words.append(line)\n",
    "len(fastText_words)"
   ]
  },
  {
   "cell_type": "code",
   "execution_count": 76,
   "id": "e1655b30",
   "metadata": {},
   "outputs": [
    {
     "data": {
      "text/plain": [
       "91590"
      ]
     },
     "execution_count": 76,
     "metadata": {},
     "output_type": "execute_result"
    }
   ],
   "source": [
    "fastText_raw_common = list(set(delimited_unique_words) & set(fastText_words))\n",
    "len(fastText_raw_common)"
   ]
  },
  {
   "cell_type": "markdown",
   "id": "caf63abf",
   "metadata": {},
   "source": [
    "```\n",
    "Size of fastText Embeddings: 91590\n",
    "Size of unique words in raw dataset: 91590\n",
    "\n",
    "91_590 out of 1_86_852 have embeddings in fastText. (49.02%)\n",
    "\n",
    "Need to check for stemming and stuff (but getting correct word embeddings from the stem requires the word's POS tag)\n",
    "```"
   ]
  },
  {
   "cell_type": "markdown",
   "id": "6de00ce8",
   "metadata": {},
   "source": [
    "```\n",
    "What to do about the remaining unknown embeddings?\n",
    "    1. Train new set of embeddings\n",
    "    2. Stemming  (Prefix matching)\n",
    "```"
   ]
  },
  {
   "cell_type": "code",
   "execution_count": 77,
   "id": "2bb28af7",
   "metadata": {},
   "outputs": [
    {
     "data": {
      "text/plain": [
       "['ಶಾರದೆಗೆ',\n",
       " 'ಒಪ್ಪಿಕೊಂಡಿಲ್ಲ',\n",
       " 'ಕೇಂದ್ರದ',\n",
       " 'ಪರಿಣಾಮವೇ',\n",
       " 'ಘರ್ಷಣೆಗೂ',\n",
       " 'ತಟ್ಟಿಕೊಂಡ',\n",
       " 'ಎನ್ನುವವರು',\n",
       " 'ಮುಸುಕೆಳೆದು',\n",
       " 'ಸಂಪಾದಿಸಿದ್ದ',\n",
       " '೪೬']"
      ]
     },
     "execution_count": 77,
     "metadata": {},
     "output_type": "execute_result"
    }
   ],
   "source": [
    "fastText_raw_common[:10]"
   ]
  },
  {
   "cell_type": "code",
   "execution_count": 84,
   "id": "937e8ac1",
   "metadata": {},
   "outputs": [
    {
     "data": {
      "text/plain": [
       "95262"
      ]
     },
     "execution_count": 84,
     "metadata": {},
     "output_type": "execute_result"
    }
   ],
   "source": [
    "oov = list(set(delimited_unique_words) - set(fastText_raw_common))\n",
    "len(oov)"
   ]
  },
  {
   "cell_type": "code",
   "execution_count": 85,
   "id": "fdc99828",
   "metadata": {},
   "outputs": [
    {
     "data": {
      "text/plain": [
       "['ಆಳುಗಳೆಲ್ಲಾ',\n",
       " 'ಕರ್ಚುಮಾಡಿ',\n",
       " 'ಅರ್ತಿಯುಳ್ಳವರೆಲ್ಲರ',\n",
       " 'ನೀವೇನಾಗ್ಬೇಕು',\n",
       " 'ಮಾಡಾಕಾಗ್ತದಪ್ಪಾ',\n",
       " 'ಕಲಿಸ್ತೆ',\n",
       " 'ಸಹಾಯಕವಾಗುವುದೇ',\n",
       " 'ಕಜ್ಜಾಯದೂಟವನ್ನೇ',\n",
       " 'ಮಾಯ್ನಹಣ್',\n",
       " 'ಕರೆದಮ್ಯಾಲೆ']"
      ]
     },
     "execution_count": 85,
     "metadata": {},
     "output_type": "execute_result"
    }
   ],
   "source": [
    "oov[:10]"
   ]
  },
  {
   "cell_type": "code",
   "execution_count": null,
   "id": "475d0427",
   "metadata": {},
   "outputs": [],
   "source": []
  }
 ],
 "metadata": {
  "kernelspec": {
   "display_name": "Python 3 (ipykernel)",
   "language": "python",
   "name": "python3"
  },
  "language_info": {
   "codemirror_mode": {
    "name": "ipython",
    "version": 3
   },
   "file_extension": ".py",
   "mimetype": "text/x-python",
   "name": "python",
   "nbconvert_exporter": "python",
   "pygments_lexer": "ipython3",
   "version": "3.11.4"
  }
 },
 "nbformat": 4,
 "nbformat_minor": 5
}

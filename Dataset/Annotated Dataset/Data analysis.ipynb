{
 "cells": [
  {
   "cell_type": "markdown",
   "id": "350a2a59",
   "metadata": {},
   "source": [
    "# Data Count"
   ]
  },
  {
   "cell_type": "code",
   "execution_count": 3,
   "id": "52f3dd65",
   "metadata": {},
   "outputs": [
    {
     "name": "stdout",
     "output_type": "stream",
     "text": [
      "Sentences :  6318\n",
      "Chunks :  58905\n",
      "Words :  103476\n"
     ]
    }
   ],
   "source": [
    "import pickle\n",
    "import sys\n",
    "sys.path.append('../Parsing/')\n",
    "\n",
    "from language_elements import Sentence, Word, Chunk\n",
    "\n",
    "file_path = \"../Parsing/\" + \"full_dataset_131.pickle\"\n",
    "\n",
    "num_sentence = 0\n",
    "num_chunk = 0\n",
    "num_words = 0\n",
    "\n",
    "num_word_list = dict()\n",
    "num_chunk_in_sentence = dict()\n",
    "num_words_in_sentence = dict()\n",
    "\n",
    "full_dataset_sentences = []\n",
    "with open(file_path, 'rb') as file:\n",
    "    retrieved_sentences = pickle.load(file)\n",
    "    for sentence in retrieved_sentences:\n",
    "        num_chunk_in_sentence[sentence.id] = len(sentence.list_of_chunks)\n",
    "        for chunk in sentence.list_of_chunks:\n",
    "            num_chunk += 1\n",
    "            num_words_in_sentence[sentence.id] = num_words_in_sentence.get(sentence.id, 0) + len(chunk.list_of_words)\n",
    "            # num_word_list[str(sentence.id)+'_'+str(chunk.chunk_id)] = len(chunk.list_of_words)\n",
    "            for word in chunk.list_of_words:\n",
    "                num_words += 1\n",
    "\n",
    "num_sentence = len(retrieved_sentences)\n",
    "print('Sentences : ', num_sentence)\n",
    "print('Chunks : ', num_chunk)\n",
    "print('Words : ', num_words)\n",
    "# print('Chunk List: ', num_chunk_list)\n",
    "# print('Word List: ', num_word_list)"
   ]
  },
  {
   "cell_type": "code",
   "execution_count": 1,
   "id": "cc3c8377",
   "metadata": {},
   "outputs": [],
   "source": [
    "# Sentence Vs No. of chunks"
   ]
  },
  {
   "cell_type": "code",
   "execution_count": null,
   "id": "2e44cc1d",
   "metadata": {},
   "outputs": [],
   "source": [
    "import matplotlib.pyplot as plt\n",
    "\n",
    "sid = list(num_chunk_in_sentence.keys())\n",
    "nochunks = list(num_chunk_in_sentence.values())\n",
    "  \n",
    "fig = plt.figure(figsize = (10, 5))\n",
    " \n",
    "# creating the bar plot\n",
    "plt.bar(sid, nochunks, color ='maroon')\n",
    " \n",
    "plt.xlabel(\"Sentence Id\")\n",
    "plt.ylabel(\"No. of Chunks\")\n",
    "plt.title(\"Sentence vs Number of Chunks\")\n",
    "plt.show()\n",
    "\n",
    "print()"
   ]
  },
  {
   "cell_type": "code",
   "execution_count": null,
   "id": "a047bbe5",
   "metadata": {},
   "outputs": [],
   "source": [
    "# Sentence Vs No. of Words"
   ]
  },
  {
   "cell_type": "code",
   "execution_count": null,
   "id": "6e782eb3",
   "metadata": {},
   "outputs": [],
   "source": [
    "import matplotlib.pyplot as plt\n",
    "\n",
    "sid = list(num_words_in_sentence.keys())\n",
    "nowords = list(num_words_in_sentence.values())\n",
    "  \n",
    "fig = plt.figure(figsize = (10, 5))\n",
    " \n",
    "# creating the bar plot\n",
    "plt.bar(sid, nowords, color ='maroon')\n",
    " \n",
    "plt.xlabel(\"Sentence Id\")\n",
    "plt.ylabel(\"No. of Words\")\n",
    "plt.title(\"Sentence vs Number of Words\")\n",
    "plt.show()\n",
    "\n",
    "print(max)"
   ]
  },
  {
   "cell_type": "code",
   "execution_count": null,
   "id": "63ab4ee4",
   "metadata": {},
   "outputs": [],
   "source": []
  }
 ],
 "metadata": {
  "kernelspec": {
   "display_name": "Python 3 (ipykernel)",
   "language": "python",
   "name": "python3"
  },
  "language_info": {
   "codemirror_mode": {
    "name": "ipython",
    "version": 3
   },
   "file_extension": ".py",
   "mimetype": "text/x-python",
   "name": "python",
   "nbconvert_exporter": "python",
   "pygments_lexer": "ipython3",
   "version": "3.9.16"
  },
  "varInspector": {
   "cols": {
    "lenName": 16,
    "lenType": 16,
    "lenVar": 40
   },
   "kernels_config": {
    "python": {
     "delete_cmd_postfix": "",
     "delete_cmd_prefix": "del ",
     "library": "var_list.py",
     "varRefreshCmd": "print(var_dic_list())"
    },
    "r": {
     "delete_cmd_postfix": ") ",
     "delete_cmd_prefix": "rm(",
     "library": "var_list.r",
     "varRefreshCmd": "cat(var_dic_list()) "
    }
   },
   "types_to_exclude": [
    "module",
    "function",
    "builtin_function_or_method",
    "instance",
    "_Feature"
   ],
   "window_display": false
  }
 },
 "nbformat": 4,
 "nbformat_minor": 5
}
